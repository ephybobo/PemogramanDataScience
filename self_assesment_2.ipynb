{
 "cells": [
  {
   "cell_type": "code",
   "execution_count": 163,
   "metadata": {},
   "outputs": [],
   "source": [
    "import pandas as pd"
   ]
  },
  {
   "cell_type": "code",
   "execution_count": 164,
   "metadata": {},
   "outputs": [],
   "source": [
    "df = pd.read_csv(\"skill-academy.csv\")"
   ]
  },
  {
   "cell_type": "code",
   "execution_count": 165,
   "metadata": {},
   "outputs": [],
   "source": [
    "dataset_1 = df[[\"customer_id\", \"sales\"]]"
   ]
  },
  {
   "cell_type": "code",
   "execution_count": 166,
   "metadata": {},
   "outputs": [],
   "source": [
    "data_1 = dataset_1.groupby([\"customer_id\"]).agg({\"sales\":\"sum\"})"
   ]
  },
  {
   "cell_type": "code",
   "execution_count": 167,
   "metadata": {},
   "outputs": [
    {
     "data": {
      "text/plain": [
       "sales    14473.571\n",
       "Name: AB-10105, dtype: float64"
      ]
     },
     "execution_count": 167,
     "metadata": {},
     "output_type": "execute_result"
    }
   ],
   "source": [
    "jawaban_1 = data_1.loc[data_1['sales'].idxmax()]\n",
    "jawaban_1"
   ]
  },
  {
   "cell_type": "code",
   "execution_count": 168,
   "metadata": {},
   "outputs": [],
   "source": [
    "#################################################################################"
   ]
  },
  {
   "cell_type": "code",
   "execution_count": 169,
   "metadata": {},
   "outputs": [],
   "source": [
    "dataset_2 = df[[\"sub_category\", \"profit\"]]"
   ]
  },
  {
   "cell_type": "code",
   "execution_count": 170,
   "metadata": {},
   "outputs": [
    {
     "data": {
      "text/html": [
       "<div>\n",
       "<style scoped>\n",
       "    .dataframe tbody tr th:only-of-type {\n",
       "        vertical-align: middle;\n",
       "    }\n",
       "\n",
       "    .dataframe tbody tr th {\n",
       "        vertical-align: top;\n",
       "    }\n",
       "\n",
       "    .dataframe thead th {\n",
       "        text-align: right;\n",
       "    }\n",
       "</style>\n",
       "<table border=\"1\" class=\"dataframe\">\n",
       "  <thead>\n",
       "    <tr style=\"text-align: right;\">\n",
       "      <th></th>\n",
       "      <th>profit</th>\n",
       "    </tr>\n",
       "    <tr>\n",
       "      <th>sub_category</th>\n",
       "      <th></th>\n",
       "    </tr>\n",
       "  </thead>\n",
       "  <tbody>\n",
       "    <tr>\n",
       "      <th>Accessories</th>\n",
       "      <td>41936.6357</td>\n",
       "    </tr>\n",
       "    <tr>\n",
       "      <th>Appliances</th>\n",
       "      <td>18138.0054</td>\n",
       "    </tr>\n",
       "    <tr>\n",
       "      <th>Art</th>\n",
       "      <td>6527.7870</td>\n",
       "    </tr>\n",
       "    <tr>\n",
       "      <th>Binders</th>\n",
       "      <td>30221.7633</td>\n",
       "    </tr>\n",
       "    <tr>\n",
       "      <th>Bookcases</th>\n",
       "      <td>-3472.5560</td>\n",
       "    </tr>\n",
       "    <tr>\n",
       "      <th>Chairs</th>\n",
       "      <td>26590.1663</td>\n",
       "    </tr>\n",
       "    <tr>\n",
       "      <th>Copiers</th>\n",
       "      <td>31537.8937</td>\n",
       "    </tr>\n",
       "    <tr>\n",
       "      <th>Envelopes</th>\n",
       "      <td>6964.1767</td>\n",
       "    </tr>\n",
       "    <tr>\n",
       "      <th>Fasteners</th>\n",
       "      <td>949.5182</td>\n",
       "    </tr>\n",
       "    <tr>\n",
       "      <th>Furnishings</th>\n",
       "      <td>13059.1436</td>\n",
       "    </tr>\n",
       "    <tr>\n",
       "      <th>Labels</th>\n",
       "      <td>5546.2540</td>\n",
       "    </tr>\n",
       "    <tr>\n",
       "      <th>Machines</th>\n",
       "      <td>11795.8133</td>\n",
       "    </tr>\n",
       "    <tr>\n",
       "      <th>Paper</th>\n",
       "      <td>34053.5693</td>\n",
       "    </tr>\n",
       "    <tr>\n",
       "      <th>Phones</th>\n",
       "      <td>44515.7306</td>\n",
       "    </tr>\n",
       "    <tr>\n",
       "      <th>Storage</th>\n",
       "      <td>21278.8264</td>\n",
       "    </tr>\n",
       "    <tr>\n",
       "      <th>Supplies</th>\n",
       "      <td>-1189.0995</td>\n",
       "    </tr>\n",
       "    <tr>\n",
       "      <th>Tables</th>\n",
       "      <td>-17725.4811</td>\n",
       "    </tr>\n",
       "  </tbody>\n",
       "</table>\n",
       "</div>"
      ],
      "text/plain": [
       "                  profit\n",
       "sub_category            \n",
       "Accessories   41936.6357\n",
       "Appliances    18138.0054\n",
       "Art            6527.7870\n",
       "Binders       30221.7633\n",
       "Bookcases     -3472.5560\n",
       "Chairs        26590.1663\n",
       "Copiers       31537.8937\n",
       "Envelopes      6964.1767\n",
       "Fasteners       949.5182\n",
       "Furnishings   13059.1436\n",
       "Labels         5546.2540\n",
       "Machines      11795.8133\n",
       "Paper         34053.5693\n",
       "Phones        44515.7306\n",
       "Storage       21278.8264\n",
       "Supplies      -1189.0995\n",
       "Tables       -17725.4811"
      ]
     },
     "execution_count": 170,
     "metadata": {},
     "output_type": "execute_result"
    }
   ],
   "source": [
    "data_2 = dataset_2.groupby([\"sub_category\"]).agg({\"profit\" : \"sum\"})\n",
    "data_2"
   ]
  },
  {
   "cell_type": "code",
   "execution_count": 171,
   "metadata": {},
   "outputs": [],
   "source": [
    "#################################################################################"
   ]
  },
  {
   "cell_type": "code",
   "execution_count": 172,
   "metadata": {},
   "outputs": [],
   "source": [
    "dataset_3 = df[[\"sub_category\",\"quantity\"]]"
   ]
  },
  {
   "cell_type": "code",
   "execution_count": 173,
   "metadata": {},
   "outputs": [],
   "source": [
    "data_3 = dataset_3.groupby([\"sub_category\"]).agg({\"quantity\" : \"sum\"})"
   ]
  },
  {
   "cell_type": "code",
   "execution_count": 174,
   "metadata": {},
   "outputs": [],
   "source": [
    "newdata_3 = pd.merge(data_2, data_3, how = \"left\", on  = \"sub_category\")"
   ]
  },
  {
   "cell_type": "code",
   "execution_count": 204,
   "metadata": {},
   "outputs": [
    {
     "data": {
      "text/plain": [
       "2756"
      ]
     },
     "execution_count": 204,
     "metadata": {},
     "output_type": "execute_result"
    }
   ],
   "source": [
    "jumlah_order =  newdata_3.loc[newdata_3['profit'] < 0, 'quantity'].sum()\n",
    "jumlah_order"
   ]
  },
  {
   "cell_type": "code",
   "execution_count": 176,
   "metadata": {},
   "outputs": [],
   "source": [
    "#################################################################################"
   ]
  },
  {
   "cell_type": "code",
   "execution_count": 177,
   "metadata": {},
   "outputs": [],
   "source": [
    "data4 = data_1.query('customer_id in [\"JE-16165\", \"KH-16510\", \"AD-10180\"]')"
   ]
  },
  {
   "cell_type": "code",
   "execution_count": 178,
   "metadata": {},
   "outputs": [
    {
     "data": {
      "text/plain": [
       "sales    6106.88\n",
       "Name: AD-10180, dtype: float64"
      ]
     },
     "execution_count": 178,
     "metadata": {},
     "output_type": "execute_result"
    }
   ],
   "source": [
    "jawaban_4 = data4.loc[data4['sales'].idxmax()]\n",
    "jawaban_4"
   ]
  },
  {
   "cell_type": "code",
   "execution_count": 179,
   "metadata": {},
   "outputs": [],
   "source": [
    "#################################################################################"
   ]
  },
  {
   "cell_type": "code",
   "execution_count": 180,
   "metadata": {},
   "outputs": [],
   "source": [
    "df1 = pd.read_csv(\"skill-academy.csv\", parse_dates=[\"order_date\"])"
   ]
  },
  {
   "cell_type": "code",
   "execution_count": 181,
   "metadata": {},
   "outputs": [],
   "source": [
    "df1[\"year\"] = df1.order_date.dt.strftime(\"%y\")"
   ]
  },
  {
   "cell_type": "code",
   "execution_count": 182,
   "metadata": {},
   "outputs": [],
   "source": [
    "yearly_sales = df1.groupby([\"year\"]).agg({\"customer_id\":\"nunique\", \"sales\":\"sum\", \"profit\": \"sum\"})"
   ]
  },
  {
   "cell_type": "code",
   "execution_count": 183,
   "metadata": {},
   "outputs": [
    {
     "data": {
      "text/plain": [
       "customer_id       638.0000\n",
       "sales          587205.6630\n",
       "profit          79995.1763\n",
       "Name: 16, dtype: float64"
      ]
     },
     "execution_count": 183,
     "metadata": {},
     "output_type": "execute_result"
    }
   ],
   "source": [
    "jawaban_5 = yearly_sales.loc[yearly_sales['profit'].idxmax()]\n",
    "jawaban_5"
   ]
  },
  {
   "cell_type": "code",
   "execution_count": 184,
   "metadata": {},
   "outputs": [],
   "source": [
    "#################################################################################"
   ]
  },
  {
   "cell_type": "code",
   "execution_count": 185,
   "metadata": {},
   "outputs": [
    {
     "data": {
      "text/html": [
       "        <script type=\"text/javascript\">\n",
       "        window.PlotlyConfig = {MathJaxConfig: 'local'};\n",
       "        if (window.MathJax) {MathJax.Hub.Config({SVG: {font: \"STIX-Web\"}});}\n",
       "        if (typeof require !== 'undefined') {\n",
       "        require.undef(\"plotly\");\n",
       "        requirejs.config({\n",
       "            paths: {\n",
       "                'plotly': ['https://cdn.plot.ly/plotly-latest.min']\n",
       "            }\n",
       "        });\n",
       "        require(['plotly'], function(Plotly) {\n",
       "            window._Plotly = Plotly;\n",
       "        });\n",
       "        }\n",
       "        </script>\n",
       "        "
      ]
     },
     "metadata": {},
     "output_type": "display_data"
    }
   ],
   "source": [
    "import sys\n",
    "import numpy as np\n",
    "import plotly\n",
    "import plotly.graph_objs as go\n",
    "from plotly.offline import download_plotlyjs, init_notebook_mode, plot, iplot\n",
    "\n",
    "init_notebook_mode(connected=True)"
   ]
  },
  {
   "cell_type": "code",
   "execution_count": 232,
   "metadata": {},
   "outputs": [],
   "source": [
    "start_date = '2013-12-31'\n",
    "end_date = '2015-12-31'\n",
    "df2 = df1[df1.order_date.between(start_date, end_date)]\n",
    "df2 = df2[[\"order_date\",\"sales\",\"profit\",\"year\"]]\n",
    "df2 = df2.groupby(\"order_date\").agg({\"sales\":\"sum\", \"profit\":\"sum\", \"year\": pd.Series.unique})\n",
    "df2 = df2.reset_index()"
   ]
  },
  {
   "cell_type": "code",
   "execution_count": 187,
   "metadata": {},
   "outputs": [],
   "source": [
    "df2[\"marker_color\"] = np.where(\n",
    "    df2.year == '14',\n",
    "    \"red\",\n",
    "    \"green\",\n",
    ")"
   ]
  },
  {
   "cell_type": "code",
   "execution_count": 188,
   "metadata": {},
   "outputs": [
    {
     "data": {
      "application/vnd.plotly.v1+json": {
       "config": {
        "linkText": "Export to plot.ly",
        "plotlyServerURL": "https://plot.ly",
        "showLink": false
       },
       "data": [
        {
         "marker": {
          "color": [
           "red",
           "red",
           "red",
           "red",
           "red",
           "red",
           "red",
           "red",
           "red",
           "red",
           "red",
           "red",
           "red",
           "red",
           "red",
           "red",
           "red",
           "red",
           "red",
           "red",
           "red",
           "red",
           "red",
           "red",
           "red",
           "red",
           "red",
           "red",
           "red",
           "red",
           "red",
           "red",
           "red",
           "red",
           "red",
           "red",
           "red",
           "red",
           "red",
           "red",
           "red",
           "red",
           "red",
           "red",
           "red",
           "red",
           "red",
           "red",
           "red",
           "red",
           "red",
           "red",
           "red",
           "red",
           "red",
           "red",
           "red",
           "red",
           "red",
           "red",
           "red",
           "red",
           "red",
           "red",
           "red",
           "red",
           "red",
           "red",
           "red",
           "red",
           "red",
           "red",
           "red",
           "red",
           "red",
           "red",
           "red",
           "red",
           "red",
           "red",
           "red",
           "red",
           "red",
           "red",
           "red",
           "red",
           "red",
           "red",
           "red",
           "red",
           "red",
           "red",
           "red",
           "red",
           "red",
           "red",
           "red",
           "red",
           "red",
           "red",
           "red",
           "red",
           "red",
           "red",
           "red",
           "red",
           "red",
           "red",
           "red",
           "red",
           "red",
           "red",
           "red",
           "red",
           "red",
           "red",
           "red",
           "red",
           "red",
           "red",
           "red",
           "red",
           "red",
           "red",
           "red",
           "red",
           "red",
           "red",
           "red",
           "red",
           "red",
           "red",
           "red",
           "red",
           "red",
           "red",
           "red",
           "red",
           "red",
           "red",
           "red",
           "red",
           "red",
           "red",
           "red",
           "red",
           "red",
           "red",
           "red",
           "red",
           "red",
           "red",
           "red",
           "red",
           "red",
           "red",
           "red",
           "red",
           "red",
           "red",
           "red",
           "red",
           "red",
           "red",
           "red",
           "red",
           "red",
           "red",
           "red",
           "red",
           "red",
           "red",
           "red",
           "red",
           "red",
           "red",
           "red",
           "red",
           "red",
           "red",
           "red",
           "red",
           "red",
           "red",
           "red",
           "red",
           "red",
           "red",
           "red",
           "red",
           "red",
           "red",
           "red",
           "red",
           "red",
           "red",
           "red",
           "red",
           "red",
           "red",
           "red",
           "red",
           "red",
           "red",
           "red",
           "red",
           "red",
           "red",
           "red",
           "red",
           "red",
           "red",
           "red",
           "red",
           "red",
           "red",
           "red",
           "red",
           "red",
           "red",
           "red",
           "red",
           "red",
           "red",
           "red",
           "red",
           "red",
           "red",
           "red",
           "red",
           "red",
           "red",
           "red",
           "red",
           "red",
           "red",
           "red",
           "red",
           "red",
           "red",
           "red",
           "red",
           "red",
           "red",
           "red",
           "red",
           "red",
           "red",
           "red",
           "red",
           "red",
           "red",
           "red",
           "red",
           "red",
           "red",
           "red",
           "red",
           "red",
           "red",
           "red",
           "red",
           "red",
           "red",
           "red",
           "red",
           "red",
           "red",
           "red",
           "red",
           "red",
           "red",
           "red",
           "red",
           "red",
           "red",
           "red",
           "red",
           "red",
           "red",
           "red",
           "red",
           "red",
           "red",
           "red",
           "red",
           "red",
           "red",
           "red",
           "red",
           "red",
           "red",
           "red",
           "red",
           "red",
           "red",
           "red",
           "red",
           "red",
           "red",
           "red",
           "red",
           "red",
           "red",
           "red",
           "green",
           "green",
           "green",
           "green",
           "green",
           "green",
           "green",
           "green",
           "green",
           "green",
           "green",
           "green",
           "green",
           "green",
           "green",
           "green",
           "green",
           "green",
           "green",
           "green",
           "green",
           "green",
           "green",
           "green",
           "green",
           "green",
           "green",
           "green",
           "green",
           "green",
           "green",
           "green",
           "green",
           "green",
           "green",
           "green",
           "green",
           "green",
           "green",
           "green",
           "green",
           "green",
           "green",
           "green",
           "green",
           "green",
           "green",
           "green",
           "green",
           "green",
           "green",
           "green",
           "green",
           "green",
           "green",
           "green",
           "green",
           "green",
           "green",
           "green",
           "green",
           "green",
           "green",
           "green",
           "green",
           "green",
           "green",
           "green",
           "green",
           "green",
           "green",
           "green",
           "green",
           "green",
           "green",
           "green",
           "green",
           "green",
           "green",
           "green",
           "green",
           "green",
           "green",
           "green",
           "green",
           "green",
           "green",
           "green",
           "green",
           "green",
           "green",
           "green",
           "green",
           "green",
           "green",
           "green",
           "green",
           "green",
           "green",
           "green",
           "green",
           "green",
           "green",
           "green",
           "green",
           "green",
           "green",
           "green",
           "green",
           "green",
           "green",
           "green",
           "green",
           "green",
           "green",
           "green",
           "green",
           "green",
           "green",
           "green",
           "green",
           "green",
           "green",
           "green",
           "green",
           "green",
           "green",
           "green",
           "green",
           "green",
           "green",
           "green",
           "green",
           "green",
           "green",
           "green",
           "green",
           "green",
           "green",
           "green",
           "green",
           "green",
           "green",
           "green",
           "green",
           "green",
           "green",
           "green",
           "green",
           "green",
           "green",
           "green",
           "green",
           "green",
           "green",
           "green",
           "green",
           "green",
           "green",
           "green",
           "green",
           "green",
           "green",
           "green",
           "green",
           "green",
           "green",
           "green",
           "green",
           "green",
           "green",
           "green",
           "green",
           "green",
           "green",
           "green",
           "green",
           "green",
           "green",
           "green",
           "green",
           "green",
           "green",
           "green",
           "green",
           "green",
           "green",
           "green",
           "green",
           "green",
           "green",
           "green",
           "green",
           "green",
           "green",
           "green",
           "green",
           "green",
           "green",
           "green",
           "green",
           "green",
           "green",
           "green",
           "green",
           "green",
           "green",
           "green",
           "green",
           "green",
           "green",
           "green",
           "green",
           "green",
           "green",
           "green",
           "green",
           "green",
           "green",
           "green",
           "green",
           "green",
           "green",
           "green",
           "green",
           "green",
           "green",
           "green",
           "green",
           "green",
           "green",
           "green",
           "green",
           "green",
           "green",
           "green",
           "green",
           "green",
           "green",
           "green",
           "green",
           "green",
           "green",
           "green",
           "green",
           "green",
           "green",
           "green",
           "green",
           "green",
           "green",
           "green",
           "green",
           "green",
           "green",
           "green",
           "green",
           "green",
           "green",
           "green",
           "green",
           "green",
           "green",
           "green",
           "green",
           "green",
           "green",
           "green",
           "green",
           "green",
           "green",
           "green",
           "green",
           "green",
           "green",
           "green",
           "green",
           "green",
           "green",
           "green",
           "green",
           "green",
           "green",
           "green",
           "green",
           "green",
           "green",
           "green",
           "green",
           "green"
          ]
         },
         "mode": "markers",
         "name": "Sales VS Profit 2014-2015",
         "type": "scatter",
         "x": [
          16.448,
          288.06,
          19.535999999999998,
          4407.1,
          87.15800000000002,
          40.544,
          54.83,
          9.94,
          3553.795,
          61.96,
          149.95,
          299.964,
          64.86399999999999,
          378.594,
          2673.87,
          25.248,
          46.019999999999996,
          1097.25,
          426.67,
          3.928,
          240.5,
          290.666,
          468.9,
          211.64600000000002,
          97.11200000000001,
          134.384,
          330.512,
          180.32,
          14.56,
          2043.4000000000005,
          129.56799999999998,
          576.726,
          21.36,
          9.04,
          54.208,
          37.784,
          95.59,
          8.85,
          19.44,
          11.364,
          55.672,
          19.456,
          2203.151,
          202.384,
          1345.892,
          370.452,
          705.5619999999999,
          1561.062,
          741.956,
          918.3140000000001,
          2108.5499999999997,
          370.782,
          471.92,
          3960.358,
          5468.236000000001,
          590.7620000000001,
          4109.816,
          464.0930000000001,
          945.064,
          65.38,
          459.146,
          145.13,
          1823.8039999999999,
          890.841,
          1170.322,
          1959.552,
          119.88799999999999,
          1458.5580000000002,
          233.45,
          475.844,
          5295.098,
          1650.6899999999998,
          1021.1700000000002,
          1958.75,
          1915.24,
          1912.1230000000003,
          638.576,
          294.71999999999997,
          39.071999999999996,
          1020.5319999999999,
          205.47,
          1250.45,
          845.36,
          257.752,
          643.9800000000001,
          2379.9939999999997,
          282.56800000000004,
          2578.476,
          768.844,
          1048.74,
          506.12000000000006,
          72.632,
          187.432,
          260.977,
          254.456,
          1091.35,
          1799.97,
          394.47999999999996,
          2343.799,
          1642.802,
          734.846,
          898.3819999999998,
          310.88,
          289.28,
          91.68,
          948.9480000000001,
          91.62,
          320.104,
          4264.328,
          180.93,
          323.75800000000004,
          116.28,
          119.53999999999999,
          1325.718,
          2157.394,
          221.96800000000002,
          1924.9130000000002,
          773.7,
          5188.520000000001,
          738.598,
          741.336,
          456.272,
          1374.001,
          281.397,
          2501.264,
          5463.008000000001,
          491.55,
          14.52,
          212.94,
          942.9739999999999,
          763.792,
          3418.502,
          139.8,
          1828.9496,
          4107.442999999999,
          1975.498,
          109.496,
          4.272,
          792.76,
          616.14,
          1645.791,
          46.68,
          739.624,
          601.0239999999999,
          79.56,
          247.40799999999996,
          1444.1039999999998,
          1038.472,
          241.19399999999996,
          763.0740000000001,
          265.52099999999996,
          2187.206,
          1960.0119999999997,
          351.216,
          292.594,
          9.51,
          273.03999999999996,
          461.326,
          2285.7859999999996,
          1961.4820000000002,
          1348.3440000000003,
          2613.184,
          8341.289999999999,
          5039.993999999999,
          580.06,
          193.152,
          1367.84,
          228.32800000000003,
          886.28,
          477.994,
          2743.1540000000005,
          2408.724,
          262.89,
          3955.6290000000004,
          3605.685,
          451.62,
          1832.38,
          842.7819999999999,
          853.092,
          500.342,
          1439.106,
          1838.722,
          23.104,
          565.224,
          59.739999999999995,
          1451.65,
          366.81000000000006,
          2070.13,
          832.3225,
          121.24,
          92.52,
          469.43600000000004,
          3254.15,
          22.08,
          296.304,
          100.36,
          3523.875000000001,
          14228.427999999994,
          4043.5880000000006,
          1855.228,
          127.95,
          4904.66,
          1275.4080000000001,
          5023.715999999999,
          133.436,
          33.552,
          820.523,
          9338.637,
          5335.968,
          2679.6519999999996,
          1240.266,
          10662.337000000001,
          211.96,
          354.8888,
          1480.614,
          773.4399999999999,
          490.29200000000003,
          8109.07,
          987.532,
          4.71,
          598.1439999999999,
          862.6830000000001,
          728.7479999999999,
          191.9,
          494.71,
          237.35999999999999,
          147.392,
          249.35999999999999,
          2049.386,
          1381.1640000000002,
          58.53,
          2212.182,
          4525.4839999999995,
          206.72400000000002,
          194.322,
          136.068,
          3134.916,
          641.104,
          1501.1039999999998,
          1356.602,
          223.808,
          56.49,
          103.882,
          447.88,
          22.32,
          1510.582,
          2813.8120000000004,
          5362.026,
          4732.079999999999,
          2126.37,
          2784.163,
          6693.747999999999,
          1694.564,
          43.68,
          1449.1420000000003,
          333.57599999999996,
          1574.094,
          2002.556,
          8114.548,
          1054.7612,
          1034.73,
          1780.822,
          1355.9285,
          11544.274,
          3406.8550000000005,
          7226.086,
          907.5600000000001,
          1249.6219999999998,
          1103.298,
          1363.2800000000002,
          5578.606,
          4415.695,
          1705.99,
          203.66,
          2280.83,
          649.0439999999999,
          219.154,
          5624.389999999999,
          1771.8079999999998,
          505.88,
          129.98,
          2963.6420000000007,
          1970.978,
          548.4,
          1095.12,
          1522.652,
          573.336,
          4938.4045,
          293.152,
          7641.658,
          1264.466,
          4394.187,
          45.534,
          3436.76,
          6962.44,
          1933.44,
          798.968,
          942.1080000000001,
          1950.202,
          2041.4139999999998,
          2966.388,
          3732.2960000000003,
          2072.096,
          2172.651,
          5253.27,
          1932.096,
          1768.2215999999999,
          264.46000000000004,
          295.27200000000005,
          31.538,
          364.07,
          1018.1039999999999,
          854.614,
          622.2780000000001,
          350.384,
          301.74199999999996,
          43.66,
          13.12,
          182.72,
          3573.252,
          4297.644,
          2161.6400000000003,
          99.26000000000002,
          492.83599999999996,
          2432.544,
          324.10999999999996,
          129.092,
          785.552,
          77.24,
          1079.962,
          1602.38,
          160.43,
          105.844,
          316.78000000000003,
          2591.1,
          79.36,
          37.775999999999996,
          25.869999999999997,
          1159.271,
          551.2639999999999,
          1642.1743999999999,
          899.5699999999999,
          1969.2669999999998,
          1555.244,
          807.54,
          2563.296,
          478.008,
          90.93199999999999,
          51.016,
          1384.856,
          707.9000000000001,
          16.776,
          7230.21,
          48.84,
          5652.9396,
          1548.1940000000002,
          1270.379,
          2481.424,
          633.302,
          412.95000000000005,
          4623.37,
          83.7,
          243.344,
          1559.0800000000002,
          571.224,
          200.716,
          299.22,
          1484.598,
          2974.058,
          140.00400000000002,
          907.436,
          757.992,
          169.54199999999997,
          1328.3460000000002,
          40.74,
          3192.6780000000003,
          35.208,
          4161.972,
          2745.1059999999998,
          2006.9600000000003,
          329.96,
          1194.726,
          893.09,
          152.916,
          25.99,
          920.946,
          2090.1055,
          2719.59,
          4044.3619999999996,
          7.968,
          1571.6950000000002,
          450.94,
          167.232,
          2198.76,
          1121.3619999999999,
          305.62199999999996,
          3981.9680000000003,
          48.81,
          154.442,
          191.968,
          1060.35,
          238.38400000000001,
          3141.1994999999997,
          69.908,
          255.968,
          134.468,
          10.86,
          169.54399999999998,
          72.332,
          3862.0980000000004,
          1304.956,
          610.3069999999999,
          1739.418,
          982.5640000000001,
          794.146,
          1204.842,
          681.1,
          5178.138000000003,
          834.198,
          1192.31,
          1533.1979999999999,
          59.768,
          1083.1119999999999,
          797.1160000000001,
          3373.5640000000003,
          174.476,
          1128.898,
          51.071999999999996,
          734.144,
          3443.904,
          1883.087,
          446.346,
          829.5440000000001,
          107.976,
          2018.953,
          836.958,
          857.08,
          1592.196,
          1386.466,
          432.92600000000004,
          1631.9019999999998,
          823.982,
          1138.288,
          121.646,
          1379.812,
          21.12,
          1587.1140000000003,
          43.286,
          1941.9520000000002,
          2052.567,
          2033.256,
          860.916,
          3029.386,
          448.082,
          672.418,
          2.025,
          2693.168,
          208.272,
          525.95,
          2395.024,
          969.2250000000003,
          29.97,
          443.802,
          3712.162,
          1011.6960000000001,
          1290.478,
          72.65,
          494.86920000000003,
          968.2059999999999,
          840.1020000000001,
          4878.392000000001,
          851.4739999999999,
          196.112,
          586.896,
          497.59000000000003,
          3378.932,
          381.64,
          2827.5200000000004,
          66.63199999999999,
          1202.278,
          7194.775000000001,
          178.526,
          639.974,
          6491.293,
          246.5,
          2601.797,
          2367.564,
          1874.8979999999997,
          1071.2839999999999,
          934.1030000000001,
          1005.654,
          2922.667,
          89.64,
          1415.7259999999999,
          1962.13,
          707.8240000000001,
          3445.7720000000004,
          3262.42,
          2535.8500000000004,
          31.12,
          11525.006,
          3924.32,
          500.38,
          1836.052,
          6982.058000000001,
          1783.504,
          4220.593999999999,
          3033.7569999999996,
          3722.2729999999997,
          2382.958,
          1058.364,
          1158.414,
          1269.266,
          275.21799999999996,
          505.58,
          851.092,
          222.12,
          2133.5350000000003,
          2248.1940000000004,
          1011.8955000000001,
          2390.7580000000003,
          371.65999999999997,
          3219.5539999999996,
          824.97,
          77.88,
          378.494,
          2135.0899999999997,
          720.086,
          15.128,
          2262.2960000000003,
          831.145,
          1425.412,
          1395.333,
          104.51,
          244.24,
          2122.044,
          3211.0090000000005,
          3106.106,
          5528.551,
          2800.8459999999995,
          834.8739999999999,
          11.481,
          3073.073,
          12196.997,
          4620.2919999999995,
          3536.9040000000005,
          542.178,
          1127.992,
          3591.0771999999997,
          2512.71,
          702.1700000000001,
          4072.3340000000003,
          3885.9860000000003,
          1040.784,
          2861.1500000000005,
          3613.5748000000003,
          614.499,
          3450.1879999999996,
          1218.7640000000001,
          13.12,
          1484.0819999999999,
          3109.7835,
          1864.4820000000002,
          2760.1680000000006,
          1798.397,
          7130.594,
          1972.6450000000002,
          5185.8139999999985,
          897.322,
          6061.501999999999,
          1338.2980000000002,
          2672.728,
          34.02,
          3080.380000000001,
          1590.8940000000002,
          1448.854,
          1023.3860000000001,
          858.3040000000001,
          5494.796,
          4.98,
          1918.492,
          935.288,
          6120.656000000001,
          1107.464,
          3257.7599999999998,
          473.313,
          194.32,
          7484.566000000001,
          4204.968000000001,
          561.486,
          5148.4472000000005,
          79.19999999999999,
          6.36,
          3251.34,
          1381.3439999999998
         ],
         "y": [
          5.5512,
          -65.9901,
          4.8839999999999995,
          1358.0523999999998,
          -71.9621,
          10.918,
          22.6537,
          3.0814,
          673.6385999999999,
          -53.2856,
          65.97800000000001,
          -5.933499999999999,
          6.4864,
          -287.9976,
          584.3695,
          4.1028,
          19.2384,
          150.327,
          9.6827,
          1.3257,
          11.6502,
          3.4196,
          206.31599999999997,
          7.152500000000001,
          31.5614,
          51.1432,
          76.4833,
          59.3488,
          5.5328,
          293.52850000000007,
          -24.294,
          120.1764,
          7.209,
          -15.658,
          8.8088,
          -13.846800000000002,
          35.5612,
          -13.7175,
          9.3312,
          -4.522500000000001,
          18.789299999999997,
          3.4048,
          -208.96140000000003,
          56.0112,
          -629.7989,
          20.0778,
          261.1901,
          134.1539,
          4.188600000000001,
          279.0609999999999,
          528.5024,
          33.598,
          29.495,
          -831.8572,
          856.3695,
          68.63530000000002,
          1055.3735000000001,
          -50.9345,
          126.9224,
          26.2758,
          96.6684,
          30.7658,
          -11.075400000000002,
          -152.7156,
          232.7529,
          355.1097,
          26.0896,
          407.3961999999999,
          85.6044,
          105.45209999999999,
          253.90439999999998,
          299.51519999999994,
          305.05600000000004,
          359.8481,
          523.2729,
          152.65810000000002,
          -384.7942,
          108,
          9.767999999999999,
          169.93740000000003,
          87.5664,
          -194.4528,
          5.5755,
          124.78689999999999,
          -0.305299999999999,
          332.8671,
          40.745000000000005,
          292.16720000000004,
          101.68140000000001,
          276.49559999999997,
          91.95720000000001,
          28.8624,
          58.5624,
          34.5131,
          85.7158,
          215.8138,
          239.99599999999998,
          95.17360000000001,
          57.82600000000001,
          -289.60880000000003,
          -119.22550000000001,
          -242.28369999999993,
          23.316,
          20.849999999999998,
          45.84,
          -158.00400000000002,
          35.6472,
          62.05809999999999,
          1719.5086999999999,
          46.580999999999996,
          58.050200000000004,
          56.9772,
          -183.78379999999999,
          130.5086,
          111.54079999999999,
          59.3088,
          222.0358,
          230.97269999999997,
          1576.7509000000002,
          218.36079999999998,
          96.1086,
          -6.493200000000006,
          -265.2367,
          -230.33159999999998,
          193.365,
          629.0289,
          240.8595,
          4.7916,
          57.4938,
          -78.241,
          76.68759999999999,
          1126.6297000000002,
          12.2325,
          -62.95940000000003,
          849.4221,
          40.2147,
          3.1803000000000003,
          0.9612,
          49.717200000000005,
          76.1052,
          109.76200000000001,
          8.557500000000001,
          249.55719999999997,
          75.33319999999999,
          22.1508,
          83.9448,
          182.7936,
          222.84550000000002,
          -34.6598,
          -8.441999999999993,
          57.2078,
          537.7298000000001,
          88.45439999999999,
          4.3902,
          -31.101399999999998,
          3.9882,
          -21.3948,
          103.20620000000001,
          162.1881,
          34.126000000000005,
          229.83480000000003,
          267.4844,
          384.50840000000005,
          -3570.9710000000005,
          70.31219999999999,
          34.6984,
          259.8896,
          66.47500000000001,
          248.02759999999998,
          -76.71490000000003,
          833.4829,
          504.1059,
          106.6392,
          1129.1342000000002,
          700.8937999999999,
          45.644400000000005,
          357.5930000000001,
          118.18260000000001,
          -227.4912,
          193.18359999999998,
          175.46189999999999,
          569.8905,
          4.878699999999999,
          160.40159999999997,
          20.1332,
          118.8423,
          92.0889,
          513.7323,
          -376.4695,
          21.485,
          18.504,
          85.9402,
          916.2512,
          -4.4639999999999995,
          21.823,
          39.6308,
          -481.2463000000001,
          -1452.6877000000002,
          16.361599999999974,
          259.62080000000003,
          21.7515,
          600.8836,
          243.82370000000003,
          1530.7599000000002,
          30.1722,
          12.582,
          233.52870000000004,
          -1539.1441000000002,
          670.1014000000001,
          877.4456999999998,
          87.47569999999999,
          4808.5975,
          8.4784,
          -87.5594,
          230.7266,
          123.10640000000001,
          64.3686,
          890.2808999999999,
          119.4905,
          0,
          133.7632,
          -65.42789999999998,
          45.0709,
          46.483000000000004,
          50.039500000000004,
          31.856,
          60.751799999999996,
          70.0043,
          169.95260000000002,
          110.61380000000001,
          12.877099999999999,
          454.1032999999999,
          1059.3591999999999,
          -0.9321000000000002,
          91.4088,
          -36.838,
          606.1102,
          124.54769999999999,
          -65.9838,
          26.0623,
          23.303199999999997,
          18.5592,
          9.449099999999998,
          41.592,
          7.6626,
          93.4282,
          378.5486000000001,
          -48.10749999999993,
          663.3640999999999,
          286.5754,
          -108.2213,
          2443.3919999999994,
          -61.611599999999996,
          20.9664,
          155.48630000000003,
          25.0182,
          222.6886,
          436.63309999999996,
          -449.5311000000004,
          79.634,
          308.90680000000003,
          400.07809999999995,
          137.5582,
          1954.1346,
          -347.5227,
          1979.1981999999998,
          251.172,
          378.1699,
          461.8921000000001,
          -105.23840000000001,
          -97.35739999999997,
          148.62720000000002,
          -62.1612,
          41.296,
          12.473199999999974,
          104.6772,
          11.828999999999997,
          875.1448000000001,
          111.37490000000001,
          146.8304,
          62.3904,
          425.0408,
          -19.019000000000013,
          201.78320000000002,
          125.92729999999999,
          125.75130000000001,
          101.14259999999999,
          -72.10080000000006,
          8.731399999999997,
          2220.5215,
          -144.732,
          415.6424,
          7.1924,
          356.95689999999996,
          1557.0102000000002,
          178.26479999999998,
          183.12109999999998,
          67.37939999999999,
          264.308,
          -3.5974000000000075,
          -336.3251,
          706.8574,
          568.0095000000001,
          -594.5495999999999,
          1444.5131,
          -1161.5484,
          -348.45779999999996,
          104.67240000000001,
          62.5086,
          7.8934,
          131.0797,
          -373.3048,
          62.80479999999999,
          160.3086,
          -300.0494,
          -21.712200000000003,
          20.8106,
          2.1319999999999997,
          84.0512,
          -191.64319999999998,
          -1862.3124,
          302.8533,
          38.9066,
          157.4118,
          242.1172,
          152.5909,
          -19.1734,
          102.3764,
          7.724,
          104.53889999999998,
          477.34560000000005,
          74.68450000000001,
          31.634199999999996,
          77.56439999999999,
          1294.0764,
          20.6336,
          10.5336,
          11.736,
          52.490300000000005,
          15.566400000000002,
          12.718199999999989,
          218.96290000000002,
          -417.895,
          473.7518,
          271.4153,
          592.3804999999999,
          53.9619,
          23.2592,
          9.998,
          234.4744,
          332.7422,
          1.6776,
          3508.0309,
          11.834999999999999,
          1982.1858000000002,
          485.7154,
          242.51489999999998,
          270.79810000000003,
          181.08280000000002,
          -22.2494,
          937.2579999999999,
          3.3480000000000003,
          59.342400000000005,
          296.8998,
          -87.9252,
          55.8143,
          -35.824500000000015,
          384.4765,
          -243.8141,
          -0.17039999999999722,
          -1113.9491,
          133.5327,
          48.6963,
          423.987,
          0.4074,
          -38.7282,
          2.6406,
          815.8418,
          686.5088999999999,
          214.85029999999998,
          -564.9804,
          507.14070000000004,
          228.89280000000002,
          24.444300000000002,
          7.5371,
          118.5812,
          -134.89960000000002,
          978.3105,
          1911.4570999999999,
          2.8884,
          -170.33110000000002,
          66.2234,
          16.8468,
          255.46430000000004,
          157.5022,
          -4.981000000000002,
          1241.9831,
          23.9169,
          -190.85860000000002,
          16.7972,
          147.6039,
          22.278799999999997,
          320.8918,
          -1.6029999999999998,
          31.996,
          -13.745200000000004,
          5.3214,
          15.479199999999999,
          -62.22239999999999,
          425.8189,
          367.8272,
          -176.59189999999998,
          265.8343,
          9.360000000000014,
          244.0794,
          166.1151,
          87.6252,
          1228.906,
          300.47860000000003,
          464.80840000000006,
          173.93400000000003,
          0.49800000000000044,
          -296.3494,
          86.00640000000001,
          -60.6004,
          27.7458,
          395.6941000000001,
          5.1072,
          -20.1443,
          1173.3926,
          344.13880000000006,
          101.6172,
          255.459,
          37.7916,
          -66.72129999999999,
          154.5192,
          88.3863,
          308.0027,
          -225.40280000000004,
          87.1955,
          -50.82449999999998,
          179.01670000000001,
          297.90439999999995,
          8.635100000000001,
          275.76300000000003,
          6.6,
          416.8136,
          10.73,
          268.62969999999996,
          140.7015,
          282.95519999999993,
          -200,
          203.53549999999998,
          -2.5362,
          218.46309999999997,
          -1.35,
          109.84819999999999,
          74.601,
          174.00939999999997,
          200.3711,
          -71.3403,
          0.2997,
          143.9366,
          601.8855,
          -172.5108,
          -37.160499999999985,
          -19.77,
          -81.3505,
          245.83330000000004,
          300.0444,
          1061.5805,
          85.2067,
          49.7245,
          55.8385,
          108.50129999999999,
          1.6121000000000265,
          0.4823999999999984,
          -147.18779999999998,
          23.8856,
          359.4773,
          1469.2684000000002,
          7.654399999999999,
          156.97590000000002,
          1420.1492,
          47.0866,
          420.4669,
          751.9428,
          182.87879999999998,
          252.03900000000004,
          -31.056399999999996,
          301.3426,
          -39.06219999999999,
          20.834400000000002,
          283.65900000000005,
          467.9591,
          119.3676,
          705.9920999999999,
          720.4735,
          539.791,
          14.6264,
          -1194.2832,
          778.9322,
          194.79919999999998,
          -905.3418000000001,
          1297.1822000000002,
          29.0835,
          1176.4350000000002,
          858.6825,
          672.7521999999999,
          722.861,
          287.27219999999994,
          169.7002,
          290.76759999999996,
          -20.209200000000003,
          63.985,
          -21.292799999999993,
          -7.664500000000004,
          561.5940999999999,
          -354.44759999999997,
          -378.27810000000005,
          312.5428,
          101.18539999999999,
          -332.0803,
          214.4922,
          3.8939999999999997,
          -155.4814,
          633.5718,
          155.3014,
          -6.7688,
          352.1441,
          -140.5054,
          96.38910000000001,
          -59.06619999999997,
          36.8692,
          119.3436,
          550.7929,
          630.5869000000001,
          922.0565,
          759.3803,
          371.9472,
          113.24300000000002,
          -1.0427999999999997,
          -957.6868000000002,
          4006.636699999999,
          1442.5109000000002,
          929.965,
          163.9204,
          23.462500000000006,
          205.98509999999996,
          573.2891000000001,
          -37.5253,
          884.1846,
          617.7707,
          283.25960000000003,
          -224.60039999999998,
          -209.56779999999998,
          -68.56809999999997,
          960.796,
          388.79600000000005,
          1.476,
          492.1915,
          62.72519999999997,
          118.693,
          578.8302,
          72.6601,
          953.109,
          -105.91660000000005,
          -182.66040000000015,
          217.53660000000002,
          931.1059999999999,
          382.4588,
          342.77450000000005,
          16.6698,
          761.9428000000001,
          -70.1326,
          390.11449999999996,
          175.9253,
          132.4591,
          -1524.4945,
          2.3406,
          327.55890000000005,
          -84.307,
          1201.5649999999998,
          66.4668,
          679.7548,
          6.6432,
          56.3528,
          1414.2556,
          906.1599,
          4.522199999999998,
          82.69460000000004,
          2.9105999999999996,
          0.0636,
          490.6038,
          438.4882
         ]
        }
       ],
       "layout": {
        "template": {
         "data": {
          "bar": [
           {
            "error_x": {
             "color": "#2a3f5f"
            },
            "error_y": {
             "color": "#2a3f5f"
            },
            "marker": {
             "line": {
              "color": "#E5ECF6",
              "width": 0.5
             }
            },
            "type": "bar"
           }
          ],
          "barpolar": [
           {
            "marker": {
             "line": {
              "color": "#E5ECF6",
              "width": 0.5
             }
            },
            "type": "barpolar"
           }
          ],
          "carpet": [
           {
            "aaxis": {
             "endlinecolor": "#2a3f5f",
             "gridcolor": "white",
             "linecolor": "white",
             "minorgridcolor": "white",
             "startlinecolor": "#2a3f5f"
            },
            "baxis": {
             "endlinecolor": "#2a3f5f",
             "gridcolor": "white",
             "linecolor": "white",
             "minorgridcolor": "white",
             "startlinecolor": "#2a3f5f"
            },
            "type": "carpet"
           }
          ],
          "choropleth": [
           {
            "colorbar": {
             "outlinewidth": 0,
             "ticks": ""
            },
            "type": "choropleth"
           }
          ],
          "contour": [
           {
            "colorbar": {
             "outlinewidth": 0,
             "ticks": ""
            },
            "colorscale": [
             [
              0,
              "#0d0887"
             ],
             [
              0.1111111111111111,
              "#46039f"
             ],
             [
              0.2222222222222222,
              "#7201a8"
             ],
             [
              0.3333333333333333,
              "#9c179e"
             ],
             [
              0.4444444444444444,
              "#bd3786"
             ],
             [
              0.5555555555555556,
              "#d8576b"
             ],
             [
              0.6666666666666666,
              "#ed7953"
             ],
             [
              0.7777777777777778,
              "#fb9f3a"
             ],
             [
              0.8888888888888888,
              "#fdca26"
             ],
             [
              1,
              "#f0f921"
             ]
            ],
            "type": "contour"
           }
          ],
          "contourcarpet": [
           {
            "colorbar": {
             "outlinewidth": 0,
             "ticks": ""
            },
            "type": "contourcarpet"
           }
          ],
          "heatmap": [
           {
            "colorbar": {
             "outlinewidth": 0,
             "ticks": ""
            },
            "colorscale": [
             [
              0,
              "#0d0887"
             ],
             [
              0.1111111111111111,
              "#46039f"
             ],
             [
              0.2222222222222222,
              "#7201a8"
             ],
             [
              0.3333333333333333,
              "#9c179e"
             ],
             [
              0.4444444444444444,
              "#bd3786"
             ],
             [
              0.5555555555555556,
              "#d8576b"
             ],
             [
              0.6666666666666666,
              "#ed7953"
             ],
             [
              0.7777777777777778,
              "#fb9f3a"
             ],
             [
              0.8888888888888888,
              "#fdca26"
             ],
             [
              1,
              "#f0f921"
             ]
            ],
            "type": "heatmap"
           }
          ],
          "heatmapgl": [
           {
            "colorbar": {
             "outlinewidth": 0,
             "ticks": ""
            },
            "colorscale": [
             [
              0,
              "#0d0887"
             ],
             [
              0.1111111111111111,
              "#46039f"
             ],
             [
              0.2222222222222222,
              "#7201a8"
             ],
             [
              0.3333333333333333,
              "#9c179e"
             ],
             [
              0.4444444444444444,
              "#bd3786"
             ],
             [
              0.5555555555555556,
              "#d8576b"
             ],
             [
              0.6666666666666666,
              "#ed7953"
             ],
             [
              0.7777777777777778,
              "#fb9f3a"
             ],
             [
              0.8888888888888888,
              "#fdca26"
             ],
             [
              1,
              "#f0f921"
             ]
            ],
            "type": "heatmapgl"
           }
          ],
          "histogram": [
           {
            "marker": {
             "colorbar": {
              "outlinewidth": 0,
              "ticks": ""
             }
            },
            "type": "histogram"
           }
          ],
          "histogram2d": [
           {
            "colorbar": {
             "outlinewidth": 0,
             "ticks": ""
            },
            "colorscale": [
             [
              0,
              "#0d0887"
             ],
             [
              0.1111111111111111,
              "#46039f"
             ],
             [
              0.2222222222222222,
              "#7201a8"
             ],
             [
              0.3333333333333333,
              "#9c179e"
             ],
             [
              0.4444444444444444,
              "#bd3786"
             ],
             [
              0.5555555555555556,
              "#d8576b"
             ],
             [
              0.6666666666666666,
              "#ed7953"
             ],
             [
              0.7777777777777778,
              "#fb9f3a"
             ],
             [
              0.8888888888888888,
              "#fdca26"
             ],
             [
              1,
              "#f0f921"
             ]
            ],
            "type": "histogram2d"
           }
          ],
          "histogram2dcontour": [
           {
            "colorbar": {
             "outlinewidth": 0,
             "ticks": ""
            },
            "colorscale": [
             [
              0,
              "#0d0887"
             ],
             [
              0.1111111111111111,
              "#46039f"
             ],
             [
              0.2222222222222222,
              "#7201a8"
             ],
             [
              0.3333333333333333,
              "#9c179e"
             ],
             [
              0.4444444444444444,
              "#bd3786"
             ],
             [
              0.5555555555555556,
              "#d8576b"
             ],
             [
              0.6666666666666666,
              "#ed7953"
             ],
             [
              0.7777777777777778,
              "#fb9f3a"
             ],
             [
              0.8888888888888888,
              "#fdca26"
             ],
             [
              1,
              "#f0f921"
             ]
            ],
            "type": "histogram2dcontour"
           }
          ],
          "mesh3d": [
           {
            "colorbar": {
             "outlinewidth": 0,
             "ticks": ""
            },
            "type": "mesh3d"
           }
          ],
          "parcoords": [
           {
            "line": {
             "colorbar": {
              "outlinewidth": 0,
              "ticks": ""
             }
            },
            "type": "parcoords"
           }
          ],
          "pie": [
           {
            "automargin": true,
            "type": "pie"
           }
          ],
          "scatter": [
           {
            "marker": {
             "colorbar": {
              "outlinewidth": 0,
              "ticks": ""
             }
            },
            "type": "scatter"
           }
          ],
          "scatter3d": [
           {
            "line": {
             "colorbar": {
              "outlinewidth": 0,
              "ticks": ""
             }
            },
            "marker": {
             "colorbar": {
              "outlinewidth": 0,
              "ticks": ""
             }
            },
            "type": "scatter3d"
           }
          ],
          "scattercarpet": [
           {
            "marker": {
             "colorbar": {
              "outlinewidth": 0,
              "ticks": ""
             }
            },
            "type": "scattercarpet"
           }
          ],
          "scattergeo": [
           {
            "marker": {
             "colorbar": {
              "outlinewidth": 0,
              "ticks": ""
             }
            },
            "type": "scattergeo"
           }
          ],
          "scattergl": [
           {
            "marker": {
             "colorbar": {
              "outlinewidth": 0,
              "ticks": ""
             }
            },
            "type": "scattergl"
           }
          ],
          "scattermapbox": [
           {
            "marker": {
             "colorbar": {
              "outlinewidth": 0,
              "ticks": ""
             }
            },
            "type": "scattermapbox"
           }
          ],
          "scatterpolar": [
           {
            "marker": {
             "colorbar": {
              "outlinewidth": 0,
              "ticks": ""
             }
            },
            "type": "scatterpolar"
           }
          ],
          "scatterpolargl": [
           {
            "marker": {
             "colorbar": {
              "outlinewidth": 0,
              "ticks": ""
             }
            },
            "type": "scatterpolargl"
           }
          ],
          "scatterternary": [
           {
            "marker": {
             "colorbar": {
              "outlinewidth": 0,
              "ticks": ""
             }
            },
            "type": "scatterternary"
           }
          ],
          "surface": [
           {
            "colorbar": {
             "outlinewidth": 0,
             "ticks": ""
            },
            "colorscale": [
             [
              0,
              "#0d0887"
             ],
             [
              0.1111111111111111,
              "#46039f"
             ],
             [
              0.2222222222222222,
              "#7201a8"
             ],
             [
              0.3333333333333333,
              "#9c179e"
             ],
             [
              0.4444444444444444,
              "#bd3786"
             ],
             [
              0.5555555555555556,
              "#d8576b"
             ],
             [
              0.6666666666666666,
              "#ed7953"
             ],
             [
              0.7777777777777778,
              "#fb9f3a"
             ],
             [
              0.8888888888888888,
              "#fdca26"
             ],
             [
              1,
              "#f0f921"
             ]
            ],
            "type": "surface"
           }
          ],
          "table": [
           {
            "cells": {
             "fill": {
              "color": "#EBF0F8"
             },
             "line": {
              "color": "white"
             }
            },
            "header": {
             "fill": {
              "color": "#C8D4E3"
             },
             "line": {
              "color": "white"
             }
            },
            "type": "table"
           }
          ]
         },
         "layout": {
          "annotationdefaults": {
           "arrowcolor": "#2a3f5f",
           "arrowhead": 0,
           "arrowwidth": 1
          },
          "coloraxis": {
           "colorbar": {
            "outlinewidth": 0,
            "ticks": ""
           }
          },
          "colorscale": {
           "diverging": [
            [
             0,
             "#8e0152"
            ],
            [
             0.1,
             "#c51b7d"
            ],
            [
             0.2,
             "#de77ae"
            ],
            [
             0.3,
             "#f1b6da"
            ],
            [
             0.4,
             "#fde0ef"
            ],
            [
             0.5,
             "#f7f7f7"
            ],
            [
             0.6,
             "#e6f5d0"
            ],
            [
             0.7,
             "#b8e186"
            ],
            [
             0.8,
             "#7fbc41"
            ],
            [
             0.9,
             "#4d9221"
            ],
            [
             1,
             "#276419"
            ]
           ],
           "sequential": [
            [
             0,
             "#0d0887"
            ],
            [
             0.1111111111111111,
             "#46039f"
            ],
            [
             0.2222222222222222,
             "#7201a8"
            ],
            [
             0.3333333333333333,
             "#9c179e"
            ],
            [
             0.4444444444444444,
             "#bd3786"
            ],
            [
             0.5555555555555556,
             "#d8576b"
            ],
            [
             0.6666666666666666,
             "#ed7953"
            ],
            [
             0.7777777777777778,
             "#fb9f3a"
            ],
            [
             0.8888888888888888,
             "#fdca26"
            ],
            [
             1,
             "#f0f921"
            ]
           ],
           "sequentialminus": [
            [
             0,
             "#0d0887"
            ],
            [
             0.1111111111111111,
             "#46039f"
            ],
            [
             0.2222222222222222,
             "#7201a8"
            ],
            [
             0.3333333333333333,
             "#9c179e"
            ],
            [
             0.4444444444444444,
             "#bd3786"
            ],
            [
             0.5555555555555556,
             "#d8576b"
            ],
            [
             0.6666666666666666,
             "#ed7953"
            ],
            [
             0.7777777777777778,
             "#fb9f3a"
            ],
            [
             0.8888888888888888,
             "#fdca26"
            ],
            [
             1,
             "#f0f921"
            ]
           ]
          },
          "colorway": [
           "#636efa",
           "#EF553B",
           "#00cc96",
           "#ab63fa",
           "#FFA15A",
           "#19d3f3",
           "#FF6692",
           "#B6E880",
           "#FF97FF",
           "#FECB52"
          ],
          "font": {
           "color": "#2a3f5f"
          },
          "geo": {
           "bgcolor": "white",
           "lakecolor": "white",
           "landcolor": "#E5ECF6",
           "showlakes": true,
           "showland": true,
           "subunitcolor": "white"
          },
          "hoverlabel": {
           "align": "left"
          },
          "hovermode": "closest",
          "mapbox": {
           "style": "light"
          },
          "paper_bgcolor": "white",
          "plot_bgcolor": "#E5ECF6",
          "polar": {
           "angularaxis": {
            "gridcolor": "white",
            "linecolor": "white",
            "ticks": ""
           },
           "bgcolor": "#E5ECF6",
           "radialaxis": {
            "gridcolor": "white",
            "linecolor": "white",
            "ticks": ""
           }
          },
          "scene": {
           "xaxis": {
            "backgroundcolor": "#E5ECF6",
            "gridcolor": "white",
            "gridwidth": 2,
            "linecolor": "white",
            "showbackground": true,
            "ticks": "",
            "zerolinecolor": "white"
           },
           "yaxis": {
            "backgroundcolor": "#E5ECF6",
            "gridcolor": "white",
            "gridwidth": 2,
            "linecolor": "white",
            "showbackground": true,
            "ticks": "",
            "zerolinecolor": "white"
           },
           "zaxis": {
            "backgroundcolor": "#E5ECF6",
            "gridcolor": "white",
            "gridwidth": 2,
            "linecolor": "white",
            "showbackground": true,
            "ticks": "",
            "zerolinecolor": "white"
           }
          },
          "shapedefaults": {
           "line": {
            "color": "#2a3f5f"
           }
          },
          "ternary": {
           "aaxis": {
            "gridcolor": "white",
            "linecolor": "white",
            "ticks": ""
           },
           "baxis": {
            "gridcolor": "white",
            "linecolor": "white",
            "ticks": ""
           },
           "bgcolor": "#E5ECF6",
           "caxis": {
            "gridcolor": "white",
            "linecolor": "white",
            "ticks": ""
           }
          },
          "title": {
           "x": 0.05
          },
          "xaxis": {
           "automargin": true,
           "gridcolor": "white",
           "linecolor": "white",
           "ticks": "",
           "title": {
            "standoff": 15
           },
           "zerolinecolor": "white",
           "zerolinewidth": 2
          },
          "yaxis": {
           "automargin": true,
           "gridcolor": "white",
           "linecolor": "white",
           "ticks": "",
           "title": {
            "standoff": 15
           },
           "zerolinecolor": "white",
           "zerolinewidth": 2
          }
         }
        }
       }
      },
      "text/html": [
       "<div>\n",
       "        \n",
       "        \n",
       "            <div id=\"44d42f9d-8ae4-410b-9996-4faf3d54b663\" class=\"plotly-graph-div\" style=\"height:525px; width:100%;\"></div>\n",
       "            <script type=\"text/javascript\">\n",
       "                require([\"plotly\"], function(Plotly) {\n",
       "                    window.PLOTLYENV=window.PLOTLYENV || {};\n",
       "                    \n",
       "                if (document.getElementById(\"44d42f9d-8ae4-410b-9996-4faf3d54b663\")) {\n",
       "                    Plotly.newPlot(\n",
       "                        '44d42f9d-8ae4-410b-9996-4faf3d54b663',\n",
       "                        [{\"marker\": {\"color\": [\"red\", \"red\", \"red\", \"red\", \"red\", \"red\", \"red\", \"red\", \"red\", \"red\", \"red\", \"red\", \"red\", \"red\", \"red\", \"red\", \"red\", \"red\", \"red\", \"red\", \"red\", \"red\", \"red\", \"red\", \"red\", \"red\", \"red\", \"red\", \"red\", \"red\", \"red\", \"red\", \"red\", \"red\", \"red\", \"red\", \"red\", \"red\", \"red\", \"red\", \"red\", \"red\", \"red\", \"red\", \"red\", \"red\", \"red\", \"red\", \"red\", \"red\", \"red\", \"red\", \"red\", \"red\", \"red\", \"red\", \"red\", \"red\", \"red\", \"red\", \"red\", \"red\", \"red\", \"red\", \"red\", \"red\", \"red\", \"red\", \"red\", \"red\", \"red\", \"red\", \"red\", \"red\", \"red\", \"red\", \"red\", \"red\", \"red\", \"red\", \"red\", \"red\", \"red\", \"red\", \"red\", \"red\", \"red\", \"red\", \"red\", \"red\", \"red\", \"red\", \"red\", \"red\", \"red\", \"red\", \"red\", \"red\", \"red\", \"red\", \"red\", \"red\", \"red\", \"red\", \"red\", \"red\", \"red\", \"red\", \"red\", \"red\", \"red\", \"red\", \"red\", \"red\", \"red\", \"red\", \"red\", \"red\", \"red\", \"red\", \"red\", \"red\", \"red\", \"red\", \"red\", \"red\", \"red\", \"red\", \"red\", \"red\", \"red\", \"red\", \"red\", \"red\", \"red\", \"red\", \"red\", \"red\", \"red\", \"red\", \"red\", \"red\", \"red\", \"red\", \"red\", \"red\", \"red\", \"red\", \"red\", \"red\", \"red\", \"red\", \"red\", \"red\", \"red\", \"red\", \"red\", \"red\", \"red\", \"red\", \"red\", \"red\", \"red\", \"red\", \"red\", \"red\", \"red\", \"red\", \"red\", \"red\", \"red\", \"red\", \"red\", \"red\", \"red\", \"red\", \"red\", \"red\", \"red\", \"red\", \"red\", \"red\", \"red\", \"red\", \"red\", \"red\", \"red\", \"red\", \"red\", \"red\", \"red\", \"red\", \"red\", \"red\", \"red\", \"red\", \"red\", \"red\", \"red\", \"red\", \"red\", \"red\", \"red\", \"red\", \"red\", \"red\", \"red\", \"red\", \"red\", \"red\", \"red\", \"red\", \"red\", \"red\", \"red\", \"red\", \"red\", \"red\", \"red\", \"red\", \"red\", \"red\", \"red\", \"red\", \"red\", \"red\", \"red\", \"red\", \"red\", \"red\", \"red\", \"red\", \"red\", \"red\", \"red\", \"red\", \"red\", \"red\", \"red\", \"red\", \"red\", \"red\", \"red\", \"red\", \"red\", \"red\", \"red\", \"red\", \"red\", \"red\", \"red\", \"red\", \"red\", \"red\", \"red\", \"red\", \"red\", \"red\", \"red\", \"red\", \"red\", \"red\", \"red\", \"red\", \"red\", \"red\", \"red\", \"red\", \"red\", \"red\", \"red\", \"red\", \"red\", \"red\", \"red\", \"red\", \"red\", \"red\", \"red\", \"red\", \"red\", \"red\", \"red\", \"red\", \"red\", \"red\", \"red\", \"red\", \"red\", \"red\", \"red\", \"red\", \"red\", \"red\", \"red\", \"red\", \"red\", \"red\", \"red\", \"red\", \"red\", \"red\", \"red\", \"red\", \"red\", \"green\", \"green\", \"green\", \"green\", \"green\", \"green\", \"green\", \"green\", \"green\", \"green\", \"green\", \"green\", \"green\", \"green\", \"green\", \"green\", \"green\", \"green\", \"green\", \"green\", \"green\", \"green\", \"green\", \"green\", \"green\", \"green\", \"green\", \"green\", \"green\", \"green\", \"green\", \"green\", \"green\", \"green\", \"green\", \"green\", \"green\", \"green\", \"green\", \"green\", \"green\", \"green\", \"green\", \"green\", \"green\", \"green\", \"green\", \"green\", \"green\", \"green\", \"green\", \"green\", \"green\", \"green\", \"green\", \"green\", \"green\", \"green\", \"green\", \"green\", \"green\", \"green\", \"green\", \"green\", \"green\", \"green\", \"green\", \"green\", \"green\", \"green\", \"green\", \"green\", \"green\", \"green\", \"green\", \"green\", \"green\", \"green\", \"green\", \"green\", \"green\", \"green\", \"green\", \"green\", \"green\", \"green\", \"green\", \"green\", \"green\", \"green\", \"green\", \"green\", \"green\", \"green\", \"green\", \"green\", \"green\", \"green\", \"green\", \"green\", \"green\", \"green\", \"green\", \"green\", \"green\", \"green\", \"green\", \"green\", \"green\", \"green\", \"green\", \"green\", \"green\", \"green\", \"green\", \"green\", \"green\", \"green\", \"green\", \"green\", \"green\", \"green\", \"green\", \"green\", \"green\", \"green\", \"green\", \"green\", \"green\", \"green\", \"green\", \"green\", \"green\", \"green\", \"green\", \"green\", \"green\", \"green\", \"green\", \"green\", \"green\", \"green\", \"green\", \"green\", \"green\", \"green\", \"green\", \"green\", \"green\", \"green\", \"green\", \"green\", \"green\", \"green\", \"green\", \"green\", \"green\", \"green\", \"green\", \"green\", \"green\", \"green\", \"green\", \"green\", \"green\", \"green\", \"green\", \"green\", \"green\", \"green\", \"green\", \"green\", \"green\", \"green\", \"green\", \"green\", \"green\", \"green\", \"green\", \"green\", \"green\", \"green\", \"green\", \"green\", \"green\", \"green\", \"green\", \"green\", \"green\", \"green\", \"green\", \"green\", \"green\", \"green\", \"green\", \"green\", \"green\", \"green\", \"green\", \"green\", \"green\", \"green\", \"green\", \"green\", \"green\", \"green\", \"green\", \"green\", \"green\", \"green\", \"green\", \"green\", \"green\", \"green\", \"green\", \"green\", \"green\", \"green\", \"green\", \"green\", \"green\", \"green\", \"green\", \"green\", \"green\", \"green\", \"green\", \"green\", \"green\", \"green\", \"green\", \"green\", \"green\", \"green\", \"green\", \"green\", \"green\", \"green\", \"green\", \"green\", \"green\", \"green\", \"green\", \"green\", \"green\", \"green\", \"green\", \"green\", \"green\", \"green\", \"green\", \"green\", \"green\", \"green\", \"green\", \"green\", \"green\", \"green\", \"green\", \"green\", \"green\", \"green\", \"green\", \"green\", \"green\", \"green\", \"green\", \"green\", \"green\", \"green\", \"green\", \"green\", \"green\", \"green\", \"green\", \"green\", \"green\", \"green\", \"green\", \"green\", \"green\", \"green\", \"green\", \"green\", \"green\", \"green\", \"green\", \"green\", \"green\", \"green\"]}, \"mode\": \"markers\", \"name\": \"Sales VS Profit 2014-2015\", \"type\": \"scatter\", \"x\": [16.448, 288.06, 19.535999999999998, 4407.1, 87.15800000000002, 40.544, 54.83, 9.94, 3553.795, 61.96, 149.95, 299.964, 64.86399999999999, 378.594, 2673.87, 25.248, 46.019999999999996, 1097.25, 426.67, 3.928, 240.5, 290.666, 468.9, 211.64600000000002, 97.11200000000001, 134.384, 330.512, 180.32, 14.56, 2043.4000000000005, 129.56799999999998, 576.726, 21.36, 9.04, 54.208, 37.784, 95.59, 8.85, 19.44, 11.364, 55.672, 19.456, 2203.151, 202.384, 1345.892, 370.452, 705.5619999999999, 1561.062, 741.956, 918.3140000000001, 2108.5499999999997, 370.782, 471.92, 3960.358, 5468.236000000001, 590.7620000000001, 4109.816, 464.0930000000001, 945.064, 65.38, 459.146, 145.13, 1823.8039999999999, 890.841, 1170.322, 1959.552, 119.88799999999999, 1458.5580000000002, 233.45, 475.844, 5295.098, 1650.6899999999998, 1021.1700000000002, 1958.75, 1915.24, 1912.1230000000003, 638.576, 294.71999999999997, 39.071999999999996, 1020.5319999999999, 205.47, 1250.45, 845.36, 257.752, 643.9800000000001, 2379.9939999999997, 282.56800000000004, 2578.476, 768.844, 1048.74, 506.12000000000006, 72.632, 187.432, 260.977, 254.456, 1091.35, 1799.97, 394.47999999999996, 2343.799, 1642.802, 734.846, 898.3819999999998, 310.88, 289.28, 91.68, 948.9480000000001, 91.62, 320.104, 4264.328, 180.93, 323.75800000000004, 116.28, 119.53999999999999, 1325.718, 2157.394, 221.96800000000002, 1924.9130000000002, 773.7, 5188.520000000001, 738.598, 741.336, 456.272, 1374.001, 281.397, 2501.264, 5463.008000000001, 491.55, 14.52, 212.94, 942.9739999999999, 763.792, 3418.502, 139.8, 1828.9496, 4107.442999999999, 1975.498, 109.496, 4.272, 792.76, 616.14, 1645.791, 46.68, 739.624, 601.0239999999999, 79.56, 247.40799999999996, 1444.1039999999998, 1038.472, 241.19399999999996, 763.0740000000001, 265.52099999999996, 2187.206, 1960.0119999999997, 351.216, 292.594, 9.51, 273.03999999999996, 461.326, 2285.7859999999996, 1961.4820000000002, 1348.3440000000003, 2613.184, 8341.289999999999, 5039.993999999999, 580.06, 193.152, 1367.84, 228.32800000000003, 886.28, 477.994, 2743.1540000000005, 2408.724, 262.89, 3955.6290000000004, 3605.685, 451.62, 1832.38, 842.7819999999999, 853.092, 500.342, 1439.106, 1838.722, 23.104, 565.224, 59.739999999999995, 1451.65, 366.81000000000006, 2070.13, 832.3225, 121.24, 92.52, 469.43600000000004, 3254.15, 22.08, 296.304, 100.36, 3523.875000000001, 14228.427999999994, 4043.5880000000006, 1855.228, 127.95, 4904.66, 1275.4080000000001, 5023.715999999999, 133.436, 33.552, 820.523, 9338.637, 5335.968, 2679.6519999999996, 1240.266, 10662.337000000001, 211.96, 354.8888, 1480.614, 773.4399999999999, 490.29200000000003, 8109.07, 987.532, 4.71, 598.1439999999999, 862.6830000000001, 728.7479999999999, 191.9, 494.71, 237.35999999999999, 147.392, 249.35999999999999, 2049.386, 1381.1640000000002, 58.53, 2212.182, 4525.4839999999995, 206.72400000000002, 194.322, 136.068, 3134.916, 641.104, 1501.1039999999998, 1356.602, 223.808, 56.49, 103.882, 447.88, 22.32, 1510.582, 2813.8120000000004, 5362.026, 4732.079999999999, 2126.37, 2784.163, 6693.747999999999, 1694.564, 43.68, 1449.1420000000003, 333.57599999999996, 1574.094, 2002.556, 8114.548, 1054.7612, 1034.73, 1780.822, 1355.9285, 11544.274, 3406.8550000000005, 7226.086, 907.5600000000001, 1249.6219999999998, 1103.298, 1363.2800000000002, 5578.606, 4415.695, 1705.99, 203.66, 2280.83, 649.0439999999999, 219.154, 5624.389999999999, 1771.8079999999998, 505.88, 129.98, 2963.6420000000007, 1970.978, 548.4, 1095.12, 1522.652, 573.336, 4938.4045, 293.152, 7641.658, 1264.466, 4394.187, 45.534, 3436.76, 6962.44, 1933.44, 798.968, 942.1080000000001, 1950.202, 2041.4139999999998, 2966.388, 3732.2960000000003, 2072.096, 2172.651, 5253.27, 1932.096, 1768.2215999999999, 264.46000000000004, 295.27200000000005, 31.538, 364.07, 1018.1039999999999, 854.614, 622.2780000000001, 350.384, 301.74199999999996, 43.66, 13.12, 182.72, 3573.252, 4297.644, 2161.6400000000003, 99.26000000000002, 492.83599999999996, 2432.544, 324.10999999999996, 129.092, 785.552, 77.24, 1079.962, 1602.38, 160.43, 105.844, 316.78000000000003, 2591.1, 79.36, 37.775999999999996, 25.869999999999997, 1159.271, 551.2639999999999, 1642.1743999999999, 899.5699999999999, 1969.2669999999998, 1555.244, 807.54, 2563.296, 478.008, 90.93199999999999, 51.016, 1384.856, 707.9000000000001, 16.776, 7230.21, 48.84, 5652.9396, 1548.1940000000002, 1270.379, 2481.424, 633.302, 412.95000000000005, 4623.37, 83.7, 243.344, 1559.0800000000002, 571.224, 200.716, 299.22, 1484.598, 2974.058, 140.00400000000002, 907.436, 757.992, 169.54199999999997, 1328.3460000000002, 40.74, 3192.6780000000003, 35.208, 4161.972, 2745.1059999999998, 2006.9600000000003, 329.96, 1194.726, 893.09, 152.916, 25.99, 920.946, 2090.1055, 2719.59, 4044.3619999999996, 7.968, 1571.6950000000002, 450.94, 167.232, 2198.76, 1121.3619999999999, 305.62199999999996, 3981.9680000000003, 48.81, 154.442, 191.968, 1060.35, 238.38400000000001, 3141.1994999999997, 69.908, 255.968, 134.468, 10.86, 169.54399999999998, 72.332, 3862.0980000000004, 1304.956, 610.3069999999999, 1739.418, 982.5640000000001, 794.146, 1204.842, 681.1, 5178.138000000003, 834.198, 1192.31, 1533.1979999999999, 59.768, 1083.1119999999999, 797.1160000000001, 3373.5640000000003, 174.476, 1128.898, 51.071999999999996, 734.144, 3443.904, 1883.087, 446.346, 829.5440000000001, 107.976, 2018.953, 836.958, 857.08, 1592.196, 1386.466, 432.92600000000004, 1631.9019999999998, 823.982, 1138.288, 121.646, 1379.812, 21.12, 1587.1140000000003, 43.286, 1941.9520000000002, 2052.567, 2033.256, 860.916, 3029.386, 448.082, 672.418, 2.025, 2693.168, 208.272, 525.95, 2395.024, 969.2250000000003, 29.97, 443.802, 3712.162, 1011.6960000000001, 1290.478, 72.65, 494.86920000000003, 968.2059999999999, 840.1020000000001, 4878.392000000001, 851.4739999999999, 196.112, 586.896, 497.59000000000003, 3378.932, 381.64, 2827.5200000000004, 66.63199999999999, 1202.278, 7194.775000000001, 178.526, 639.974, 6491.293, 246.5, 2601.797, 2367.564, 1874.8979999999997, 1071.2839999999999, 934.1030000000001, 1005.654, 2922.667, 89.64, 1415.7259999999999, 1962.13, 707.8240000000001, 3445.7720000000004, 3262.42, 2535.8500000000004, 31.12, 11525.006, 3924.32, 500.38, 1836.052, 6982.058000000001, 1783.504, 4220.593999999999, 3033.7569999999996, 3722.2729999999997, 2382.958, 1058.364, 1158.414, 1269.266, 275.21799999999996, 505.58, 851.092, 222.12, 2133.5350000000003, 2248.1940000000004, 1011.8955000000001, 2390.7580000000003, 371.65999999999997, 3219.5539999999996, 824.97, 77.88, 378.494, 2135.0899999999997, 720.086, 15.128, 2262.2960000000003, 831.145, 1425.412, 1395.333, 104.51, 244.24, 2122.044, 3211.0090000000005, 3106.106, 5528.551, 2800.8459999999995, 834.8739999999999, 11.481, 3073.073, 12196.997, 4620.2919999999995, 3536.9040000000005, 542.178, 1127.992, 3591.0771999999997, 2512.71, 702.1700000000001, 4072.3340000000003, 3885.9860000000003, 1040.784, 2861.1500000000005, 3613.5748000000003, 614.499, 3450.1879999999996, 1218.7640000000001, 13.12, 1484.0819999999999, 3109.7835, 1864.4820000000002, 2760.1680000000006, 1798.397, 7130.594, 1972.6450000000002, 5185.8139999999985, 897.322, 6061.501999999999, 1338.2980000000002, 2672.728, 34.02, 3080.380000000001, 1590.8940000000002, 1448.854, 1023.3860000000001, 858.3040000000001, 5494.796, 4.98, 1918.492, 935.288, 6120.656000000001, 1107.464, 3257.7599999999998, 473.313, 194.32, 7484.566000000001, 4204.968000000001, 561.486, 5148.4472000000005, 79.19999999999999, 6.36, 3251.34, 1381.3439999999998], \"y\": [5.5512, -65.9901, 4.8839999999999995, 1358.0523999999998, -71.9621, 10.918, 22.6537, 3.0814, 673.6385999999999, -53.2856, 65.97800000000001, -5.933499999999999, 6.4864, -287.9976, 584.3695, 4.1028, 19.2384, 150.327, 9.6827, 1.3257, 11.6502, 3.4196, 206.31599999999997, 7.152500000000001, 31.5614, 51.1432, 76.4833, 59.3488, 5.5328, 293.52850000000007, -24.294, 120.1764, 7.209, -15.658, 8.8088, -13.846800000000002, 35.5612, -13.7175, 9.3312, -4.522500000000001, 18.789299999999997, 3.4048, -208.96140000000003, 56.0112, -629.7989, 20.0778, 261.1901, 134.1539, 4.188600000000001, 279.0609999999999, 528.5024, 33.598, 29.495, -831.8572, 856.3695, 68.63530000000002, 1055.3735000000001, -50.9345, 126.9224, 26.2758, 96.6684, 30.7658, -11.075400000000002, -152.7156, 232.7529, 355.1097, 26.0896, 407.3961999999999, 85.6044, 105.45209999999999, 253.90439999999998, 299.51519999999994, 305.05600000000004, 359.8481, 523.2729, 152.65810000000002, -384.7942, 108.0, 9.767999999999999, 169.93740000000003, 87.5664, -194.4528, 5.5755, 124.78689999999999, -0.305299999999999, 332.8671, 40.745000000000005, 292.16720000000004, 101.68140000000001, 276.49559999999997, 91.95720000000001, 28.8624, 58.5624, 34.5131, 85.7158, 215.8138, 239.99599999999998, 95.17360000000001, 57.82600000000001, -289.60880000000003, -119.22550000000001, -242.28369999999993, 23.316, 20.849999999999998, 45.84, -158.00400000000002, 35.6472, 62.05809999999999, 1719.5086999999999, 46.580999999999996, 58.050200000000004, 56.9772, -183.78379999999999, 130.5086, 111.54079999999999, 59.3088, 222.0358, 230.97269999999997, 1576.7509000000002, 218.36079999999998, 96.1086, -6.493200000000006, -265.2367, -230.33159999999998, 193.365, 629.0289, 240.8595, 4.7916, 57.4938, -78.241, 76.68759999999999, 1126.6297000000002, 12.2325, -62.95940000000003, 849.4221, 40.2147, 3.1803000000000003, 0.9612, 49.717200000000005, 76.1052, 109.76200000000001, 8.557500000000001, 249.55719999999997, 75.33319999999999, 22.1508, 83.9448, 182.7936, 222.84550000000002, -34.6598, -8.441999999999993, 57.2078, 537.7298000000001, 88.45439999999999, 4.3902, -31.101399999999998, 3.9882, -21.3948, 103.20620000000001, 162.1881, 34.126000000000005, 229.83480000000003, 267.4844, 384.50840000000005, -3570.9710000000005, 70.31219999999999, 34.6984, 259.8896, 66.47500000000001, 248.02759999999998, -76.71490000000003, 833.4829, 504.1059, 106.6392, 1129.1342000000002, 700.8937999999999, 45.644400000000005, 357.5930000000001, 118.18260000000001, -227.4912, 193.18359999999998, 175.46189999999999, 569.8905, 4.878699999999999, 160.40159999999997, 20.1332, 118.8423, 92.0889, 513.7323, -376.4695, 21.485, 18.504, 85.9402, 916.2512, -4.4639999999999995, 21.823, 39.6308, -481.2463000000001, -1452.6877000000002, 16.361599999999974, 259.62080000000003, 21.7515, 600.8836, 243.82370000000003, 1530.7599000000002, 30.1722, 12.582, 233.52870000000004, -1539.1441000000002, 670.1014000000001, 877.4456999999998, 87.47569999999999, 4808.5975, 8.4784, -87.5594, 230.7266, 123.10640000000001, 64.3686, 890.2808999999999, 119.4905, 0.0, 133.7632, -65.42789999999998, 45.0709, 46.483000000000004, 50.039500000000004, 31.856, 60.751799999999996, 70.0043, 169.95260000000002, 110.61380000000001, 12.877099999999999, 454.1032999999999, 1059.3591999999999, -0.9321000000000002, 91.4088, -36.838, 606.1102, 124.54769999999999, -65.9838, 26.0623, 23.303199999999997, 18.5592, 9.449099999999998, 41.592, 7.6626, 93.4282, 378.5486000000001, -48.10749999999993, 663.3640999999999, 286.5754, -108.2213, 2443.3919999999994, -61.611599999999996, 20.9664, 155.48630000000003, 25.0182, 222.6886, 436.63309999999996, -449.5311000000004, 79.634, 308.90680000000003, 400.07809999999995, 137.5582, 1954.1346, -347.5227, 1979.1981999999998, 251.172, 378.1699, 461.8921000000001, -105.23840000000001, -97.35739999999997, 148.62720000000002, -62.1612, 41.296, 12.473199999999974, 104.6772, 11.828999999999997, 875.1448000000001, 111.37490000000001, 146.8304, 62.3904, 425.0408, -19.019000000000013, 201.78320000000002, 125.92729999999999, 125.75130000000001, 101.14259999999999, -72.10080000000006, 8.731399999999997, 2220.5215, -144.732, 415.6424, 7.1924, 356.95689999999996, 1557.0102000000002, 178.26479999999998, 183.12109999999998, 67.37939999999999, 264.308, -3.5974000000000075, -336.3251, 706.8574, 568.0095000000001, -594.5495999999999, 1444.5131, -1161.5484, -348.45779999999996, 104.67240000000001, 62.5086, 7.8934, 131.0797, -373.3048, 62.80479999999999, 160.3086, -300.0494, -21.712200000000003, 20.8106, 2.1319999999999997, 84.0512, -191.64319999999998, -1862.3124, 302.8533, 38.9066, 157.4118, 242.1172, 152.5909, -19.1734, 102.3764, 7.724, 104.53889999999998, 477.34560000000005, 74.68450000000001, 31.634199999999996, 77.56439999999999, 1294.0764, 20.6336, 10.5336, 11.736, 52.490300000000005, 15.566400000000002, 12.718199999999989, 218.96290000000002, -417.895, 473.7518, 271.4153, 592.3804999999999, 53.9619, 23.2592, 9.998, 234.4744, 332.7422, 1.6776, 3508.0309, 11.834999999999999, 1982.1858000000002, 485.7154, 242.51489999999998, 270.79810000000003, 181.08280000000002, -22.2494, 937.2579999999999, 3.3480000000000003, 59.342400000000005, 296.8998, -87.9252, 55.8143, -35.824500000000015, 384.4765, -243.8141, -0.17039999999999722, -1113.9491, 133.5327, 48.6963, 423.987, 0.4074, -38.7282, 2.6406, 815.8418, 686.5088999999999, 214.85029999999998, -564.9804, 507.14070000000004, 228.89280000000002, 24.444300000000002, 7.5371, 118.5812, -134.89960000000002, 978.3105, 1911.4570999999999, 2.8884, -170.33110000000002, 66.2234, 16.8468, 255.46430000000004, 157.5022, -4.981000000000002, 1241.9831, 23.9169, -190.85860000000002, 16.7972, 147.6039, 22.278799999999997, 320.8918, -1.6029999999999998, 31.996, -13.745200000000004, 5.3214, 15.479199999999999, -62.22239999999999, 425.8189, 367.8272, -176.59189999999998, 265.8343, 9.360000000000014, 244.0794, 166.1151, 87.6252, 1228.906, 300.47860000000003, 464.80840000000006, 173.93400000000003, 0.49800000000000044, -296.3494, 86.00640000000001, -60.6004, 27.7458, 395.6941000000001, 5.1072, -20.1443, 1173.3926, 344.13880000000006, 101.6172, 255.459, 37.7916, -66.72129999999999, 154.5192, 88.3863, 308.0027, -225.40280000000004, 87.1955, -50.82449999999998, 179.01670000000001, 297.90439999999995, 8.635100000000001, 275.76300000000003, 6.6, 416.8136, 10.73, 268.62969999999996, 140.7015, 282.95519999999993, -200.0, 203.53549999999998, -2.5362, 218.46309999999997, -1.35, 109.84819999999999, 74.601, 174.00939999999997, 200.3711, -71.3403, 0.2997, 143.9366, 601.8855, -172.5108, -37.160499999999985, -19.77, -81.3505, 245.83330000000004, 300.0444, 1061.5805, 85.2067, 49.7245, 55.8385, 108.50129999999999, 1.6121000000000265, 0.4823999999999984, -147.18779999999998, 23.8856, 359.4773, 1469.2684000000002, 7.654399999999999, 156.97590000000002, 1420.1492, 47.0866, 420.4669, 751.9428, 182.87879999999998, 252.03900000000004, -31.056399999999996, 301.3426, -39.06219999999999, 20.834400000000002, 283.65900000000005, 467.9591, 119.3676, 705.9920999999999, 720.4735, 539.791, 14.6264, -1194.2832, 778.9322, 194.79919999999998, -905.3418000000001, 1297.1822000000002, 29.0835, 1176.4350000000002, 858.6825, 672.7521999999999, 722.861, 287.27219999999994, 169.7002, 290.76759999999996, -20.209200000000003, 63.985, -21.292799999999993, -7.664500000000004, 561.5940999999999, -354.44759999999997, -378.27810000000005, 312.5428, 101.18539999999999, -332.0803, 214.4922, 3.8939999999999997, -155.4814, 633.5718, 155.3014, -6.7688, 352.1441, -140.5054, 96.38910000000001, -59.06619999999997, 36.8692, 119.3436, 550.7929, 630.5869000000001, 922.0565, 759.3803, 371.9472, 113.24300000000002, -1.0427999999999997, -957.6868000000002, 4006.636699999999, 1442.5109000000002, 929.965, 163.9204, 23.462500000000006, 205.98509999999996, 573.2891000000001, -37.5253, 884.1846, 617.7707, 283.25960000000003, -224.60039999999998, -209.56779999999998, -68.56809999999997, 960.796, 388.79600000000005, 1.476, 492.1915, 62.72519999999997, 118.693, 578.8302, 72.6601, 953.109, -105.91660000000005, -182.66040000000015, 217.53660000000002, 931.1059999999999, 382.4588, 342.77450000000005, 16.6698, 761.9428000000001, -70.1326, 390.11449999999996, 175.9253, 132.4591, -1524.4945, 2.3406, 327.55890000000005, -84.307, 1201.5649999999998, 66.4668, 679.7548, 6.6432, 56.3528, 1414.2556, 906.1599, 4.522199999999998, 82.69460000000004, 2.9105999999999996, 0.0636, 490.6038, 438.4882]}],\n",
       "                        {\"template\": {\"data\": {\"bar\": [{\"error_x\": {\"color\": \"#2a3f5f\"}, \"error_y\": {\"color\": \"#2a3f5f\"}, \"marker\": {\"line\": {\"color\": \"#E5ECF6\", \"width\": 0.5}}, \"type\": \"bar\"}], \"barpolar\": [{\"marker\": {\"line\": {\"color\": \"#E5ECF6\", \"width\": 0.5}}, \"type\": \"barpolar\"}], \"carpet\": [{\"aaxis\": {\"endlinecolor\": \"#2a3f5f\", \"gridcolor\": \"white\", \"linecolor\": \"white\", \"minorgridcolor\": \"white\", \"startlinecolor\": \"#2a3f5f\"}, \"baxis\": {\"endlinecolor\": \"#2a3f5f\", \"gridcolor\": \"white\", \"linecolor\": \"white\", \"minorgridcolor\": \"white\", \"startlinecolor\": \"#2a3f5f\"}, \"type\": \"carpet\"}], \"choropleth\": [{\"colorbar\": {\"outlinewidth\": 0, \"ticks\": \"\"}, \"type\": \"choropleth\"}], \"contour\": [{\"colorbar\": {\"outlinewidth\": 0, \"ticks\": \"\"}, \"colorscale\": [[0.0, \"#0d0887\"], [0.1111111111111111, \"#46039f\"], [0.2222222222222222, \"#7201a8\"], [0.3333333333333333, \"#9c179e\"], [0.4444444444444444, \"#bd3786\"], [0.5555555555555556, \"#d8576b\"], [0.6666666666666666, \"#ed7953\"], [0.7777777777777778, \"#fb9f3a\"], [0.8888888888888888, \"#fdca26\"], [1.0, \"#f0f921\"]], \"type\": \"contour\"}], \"contourcarpet\": [{\"colorbar\": {\"outlinewidth\": 0, \"ticks\": \"\"}, \"type\": \"contourcarpet\"}], \"heatmap\": [{\"colorbar\": {\"outlinewidth\": 0, \"ticks\": \"\"}, \"colorscale\": [[0.0, \"#0d0887\"], [0.1111111111111111, \"#46039f\"], [0.2222222222222222, \"#7201a8\"], [0.3333333333333333, \"#9c179e\"], [0.4444444444444444, \"#bd3786\"], [0.5555555555555556, \"#d8576b\"], [0.6666666666666666, \"#ed7953\"], [0.7777777777777778, \"#fb9f3a\"], [0.8888888888888888, \"#fdca26\"], [1.0, \"#f0f921\"]], \"type\": \"heatmap\"}], \"heatmapgl\": [{\"colorbar\": {\"outlinewidth\": 0, \"ticks\": \"\"}, \"colorscale\": [[0.0, \"#0d0887\"], [0.1111111111111111, \"#46039f\"], [0.2222222222222222, \"#7201a8\"], [0.3333333333333333, \"#9c179e\"], [0.4444444444444444, \"#bd3786\"], [0.5555555555555556, \"#d8576b\"], [0.6666666666666666, \"#ed7953\"], [0.7777777777777778, \"#fb9f3a\"], [0.8888888888888888, \"#fdca26\"], [1.0, \"#f0f921\"]], \"type\": \"heatmapgl\"}], \"histogram\": [{\"marker\": {\"colorbar\": {\"outlinewidth\": 0, \"ticks\": \"\"}}, \"type\": \"histogram\"}], \"histogram2d\": [{\"colorbar\": {\"outlinewidth\": 0, \"ticks\": \"\"}, \"colorscale\": [[0.0, \"#0d0887\"], [0.1111111111111111, \"#46039f\"], [0.2222222222222222, \"#7201a8\"], [0.3333333333333333, \"#9c179e\"], [0.4444444444444444, \"#bd3786\"], [0.5555555555555556, \"#d8576b\"], [0.6666666666666666, \"#ed7953\"], [0.7777777777777778, \"#fb9f3a\"], [0.8888888888888888, \"#fdca26\"], [1.0, \"#f0f921\"]], \"type\": \"histogram2d\"}], \"histogram2dcontour\": [{\"colorbar\": {\"outlinewidth\": 0, \"ticks\": \"\"}, \"colorscale\": [[0.0, \"#0d0887\"], [0.1111111111111111, \"#46039f\"], [0.2222222222222222, \"#7201a8\"], [0.3333333333333333, \"#9c179e\"], [0.4444444444444444, \"#bd3786\"], [0.5555555555555556, \"#d8576b\"], [0.6666666666666666, \"#ed7953\"], [0.7777777777777778, \"#fb9f3a\"], [0.8888888888888888, \"#fdca26\"], [1.0, \"#f0f921\"]], \"type\": \"histogram2dcontour\"}], \"mesh3d\": [{\"colorbar\": {\"outlinewidth\": 0, \"ticks\": \"\"}, \"type\": \"mesh3d\"}], \"parcoords\": [{\"line\": {\"colorbar\": {\"outlinewidth\": 0, \"ticks\": \"\"}}, \"type\": \"parcoords\"}], \"pie\": [{\"automargin\": true, \"type\": \"pie\"}], \"scatter\": [{\"marker\": {\"colorbar\": {\"outlinewidth\": 0, \"ticks\": \"\"}}, \"type\": \"scatter\"}], \"scatter3d\": [{\"line\": {\"colorbar\": {\"outlinewidth\": 0, \"ticks\": \"\"}}, \"marker\": {\"colorbar\": {\"outlinewidth\": 0, \"ticks\": \"\"}}, \"type\": \"scatter3d\"}], \"scattercarpet\": [{\"marker\": {\"colorbar\": {\"outlinewidth\": 0, \"ticks\": \"\"}}, \"type\": \"scattercarpet\"}], \"scattergeo\": [{\"marker\": {\"colorbar\": {\"outlinewidth\": 0, \"ticks\": \"\"}}, \"type\": \"scattergeo\"}], \"scattergl\": [{\"marker\": {\"colorbar\": {\"outlinewidth\": 0, \"ticks\": \"\"}}, \"type\": \"scattergl\"}], \"scattermapbox\": [{\"marker\": {\"colorbar\": {\"outlinewidth\": 0, \"ticks\": \"\"}}, \"type\": \"scattermapbox\"}], \"scatterpolar\": [{\"marker\": {\"colorbar\": {\"outlinewidth\": 0, \"ticks\": \"\"}}, \"type\": \"scatterpolar\"}], \"scatterpolargl\": [{\"marker\": {\"colorbar\": {\"outlinewidth\": 0, \"ticks\": \"\"}}, \"type\": \"scatterpolargl\"}], \"scatterternary\": [{\"marker\": {\"colorbar\": {\"outlinewidth\": 0, \"ticks\": \"\"}}, \"type\": \"scatterternary\"}], \"surface\": [{\"colorbar\": {\"outlinewidth\": 0, \"ticks\": \"\"}, \"colorscale\": [[0.0, \"#0d0887\"], [0.1111111111111111, \"#46039f\"], [0.2222222222222222, \"#7201a8\"], [0.3333333333333333, \"#9c179e\"], [0.4444444444444444, \"#bd3786\"], [0.5555555555555556, \"#d8576b\"], [0.6666666666666666, \"#ed7953\"], [0.7777777777777778, \"#fb9f3a\"], [0.8888888888888888, \"#fdca26\"], [1.0, \"#f0f921\"]], \"type\": \"surface\"}], \"table\": [{\"cells\": {\"fill\": {\"color\": \"#EBF0F8\"}, \"line\": {\"color\": \"white\"}}, \"header\": {\"fill\": {\"color\": \"#C8D4E3\"}, \"line\": {\"color\": \"white\"}}, \"type\": \"table\"}]}, \"layout\": {\"annotationdefaults\": {\"arrowcolor\": \"#2a3f5f\", \"arrowhead\": 0, \"arrowwidth\": 1}, \"coloraxis\": {\"colorbar\": {\"outlinewidth\": 0, \"ticks\": \"\"}}, \"colorscale\": {\"diverging\": [[0, \"#8e0152\"], [0.1, \"#c51b7d\"], [0.2, \"#de77ae\"], [0.3, \"#f1b6da\"], [0.4, \"#fde0ef\"], [0.5, \"#f7f7f7\"], [0.6, \"#e6f5d0\"], [0.7, \"#b8e186\"], [0.8, \"#7fbc41\"], [0.9, \"#4d9221\"], [1, \"#276419\"]], \"sequential\": [[0.0, \"#0d0887\"], [0.1111111111111111, \"#46039f\"], [0.2222222222222222, \"#7201a8\"], [0.3333333333333333, \"#9c179e\"], [0.4444444444444444, \"#bd3786\"], [0.5555555555555556, \"#d8576b\"], [0.6666666666666666, \"#ed7953\"], [0.7777777777777778, \"#fb9f3a\"], [0.8888888888888888, \"#fdca26\"], [1.0, \"#f0f921\"]], \"sequentialminus\": [[0.0, \"#0d0887\"], [0.1111111111111111, \"#46039f\"], [0.2222222222222222, \"#7201a8\"], [0.3333333333333333, \"#9c179e\"], [0.4444444444444444, \"#bd3786\"], [0.5555555555555556, \"#d8576b\"], [0.6666666666666666, \"#ed7953\"], [0.7777777777777778, \"#fb9f3a\"], [0.8888888888888888, \"#fdca26\"], [1.0, \"#f0f921\"]]}, \"colorway\": [\"#636efa\", \"#EF553B\", \"#00cc96\", \"#ab63fa\", \"#FFA15A\", \"#19d3f3\", \"#FF6692\", \"#B6E880\", \"#FF97FF\", \"#FECB52\"], \"font\": {\"color\": \"#2a3f5f\"}, \"geo\": {\"bgcolor\": \"white\", \"lakecolor\": \"white\", \"landcolor\": \"#E5ECF6\", \"showlakes\": true, \"showland\": true, \"subunitcolor\": \"white\"}, \"hoverlabel\": {\"align\": \"left\"}, \"hovermode\": \"closest\", \"mapbox\": {\"style\": \"light\"}, \"paper_bgcolor\": \"white\", \"plot_bgcolor\": \"#E5ECF6\", \"polar\": {\"angularaxis\": {\"gridcolor\": \"white\", \"linecolor\": \"white\", \"ticks\": \"\"}, \"bgcolor\": \"#E5ECF6\", \"radialaxis\": {\"gridcolor\": \"white\", \"linecolor\": \"white\", \"ticks\": \"\"}}, \"scene\": {\"xaxis\": {\"backgroundcolor\": \"#E5ECF6\", \"gridcolor\": \"white\", \"gridwidth\": 2, \"linecolor\": \"white\", \"showbackground\": true, \"ticks\": \"\", \"zerolinecolor\": \"white\"}, \"yaxis\": {\"backgroundcolor\": \"#E5ECF6\", \"gridcolor\": \"white\", \"gridwidth\": 2, \"linecolor\": \"white\", \"showbackground\": true, \"ticks\": \"\", \"zerolinecolor\": \"white\"}, \"zaxis\": {\"backgroundcolor\": \"#E5ECF6\", \"gridcolor\": \"white\", \"gridwidth\": 2, \"linecolor\": \"white\", \"showbackground\": true, \"ticks\": \"\", \"zerolinecolor\": \"white\"}}, \"shapedefaults\": {\"line\": {\"color\": \"#2a3f5f\"}}, \"ternary\": {\"aaxis\": {\"gridcolor\": \"white\", \"linecolor\": \"white\", \"ticks\": \"\"}, \"baxis\": {\"gridcolor\": \"white\", \"linecolor\": \"white\", \"ticks\": \"\"}, \"bgcolor\": \"#E5ECF6\", \"caxis\": {\"gridcolor\": \"white\", \"linecolor\": \"white\", \"ticks\": \"\"}}, \"title\": {\"x\": 0.05}, \"xaxis\": {\"automargin\": true, \"gridcolor\": \"white\", \"linecolor\": \"white\", \"ticks\": \"\", \"title\": {\"standoff\": 15}, \"zerolinecolor\": \"white\", \"zerolinewidth\": 2}, \"yaxis\": {\"automargin\": true, \"gridcolor\": \"white\", \"linecolor\": \"white\", \"ticks\": \"\", \"title\": {\"standoff\": 15}, \"zerolinecolor\": \"white\", \"zerolinewidth\": 2}}}},\n",
       "                        {\"responsive\": true}\n",
       "                    ).then(function(){\n",
       "                            \n",
       "var gd = document.getElementById('44d42f9d-8ae4-410b-9996-4faf3d54b663');\n",
       "var x = new MutationObserver(function (mutations, observer) {{\n",
       "        var display = window.getComputedStyle(gd).display;\n",
       "        if (!display || display === 'none') {{\n",
       "            console.log([gd, 'removed!']);\n",
       "            Plotly.purge(gd);\n",
       "            observer.disconnect();\n",
       "        }}\n",
       "}});\n",
       "\n",
       "// Listen for the removal of the full notebook cells\n",
       "var notebookContainer = gd.closest('#notebook-container');\n",
       "if (notebookContainer) {{\n",
       "    x.observe(notebookContainer, {childList: true});\n",
       "}}\n",
       "\n",
       "// Listen for the clearing of the current output cell\n",
       "var outputEl = gd.closest('.output');\n",
       "if (outputEl) {{\n",
       "    x.observe(outputEl, {childList: true});\n",
       "}}\n",
       "\n",
       "                        })\n",
       "                };\n",
       "                });\n",
       "            </script>\n",
       "        </div>"
      ]
     },
     "metadata": {},
     "output_type": "display_data"
    }
   ],
   "source": [
    "data = go.Scatter(\n",
    "    x = df2.sales,\n",
    "    y = df2.profit,\n",
    "    mode = \"markers\",\n",
    "    marker = {\n",
    "        \"color\" : df2.marker_color,\n",
    "    },\n",
    "    name = \"Sales VS Profit 2014-2015\",\n",
    ")\n",
    "\n",
    "fig = go.Figure(data=data)\n",
    "iplot(fig)"
   ]
  },
  {
   "cell_type": "code",
   "execution_count": 189,
   "metadata": {},
   "outputs": [],
   "source": [
    "#################################################################################"
   ]
  },
  {
   "cell_type": "code",
   "execution_count": 240,
   "metadata": {},
   "outputs": [
    {
     "data": {
      "text/html": [
       "<div>\n",
       "<style scoped>\n",
       "    .dataframe tbody tr th:only-of-type {\n",
       "        vertical-align: middle;\n",
       "    }\n",
       "\n",
       "    .dataframe tbody tr th {\n",
       "        vertical-align: top;\n",
       "    }\n",
       "\n",
       "    .dataframe thead th {\n",
       "        text-align: right;\n",
       "    }\n",
       "</style>\n",
       "<table border=\"1\" class=\"dataframe\">\n",
       "  <thead>\n",
       "    <tr style=\"text-align: right;\">\n",
       "      <th></th>\n",
       "      <th>customer_id</th>\n",
       "      <th>sales</th>\n",
       "      <th>profit</th>\n",
       "    </tr>\n",
       "  </thead>\n",
       "  <tbody>\n",
       "    <tr>\n",
       "      <th>0</th>\n",
       "      <td>PF-19120</td>\n",
       "      <td>9022.324</td>\n",
       "      <td>-631.9789</td>\n",
       "    </tr>\n",
       "    <tr>\n",
       "      <th>1</th>\n",
       "      <td>KD-16495</td>\n",
       "      <td>7039.044</td>\n",
       "      <td>2810.0215</td>\n",
       "    </tr>\n",
       "    <tr>\n",
       "      <th>2</th>\n",
       "      <td>CM-12385</td>\n",
       "      <td>6682.260</td>\n",
       "      <td>3197.4580</td>\n",
       "    </tr>\n",
       "    <tr>\n",
       "      <th>3</th>\n",
       "      <td>FH-14365</td>\n",
       "      <td>6056.090</td>\n",
       "      <td>2139.7363</td>\n",
       "    </tr>\n",
       "    <tr>\n",
       "      <th>4</th>\n",
       "      <td>NW-18400</td>\n",
       "      <td>5511.316</td>\n",
       "      <td>1654.2153</td>\n",
       "    </tr>\n",
       "    <tr>\n",
       "      <th>5</th>\n",
       "      <td>SB-20185</td>\n",
       "      <td>5414.246</td>\n",
       "      <td>939.1590</td>\n",
       "    </tr>\n",
       "    <tr>\n",
       "      <th>6</th>\n",
       "      <td>JH-15985</td>\n",
       "      <td>5352.786</td>\n",
       "      <td>-1429.3776</td>\n",
       "    </tr>\n",
       "    <tr>\n",
       "      <th>7</th>\n",
       "      <td>HM-14860</td>\n",
       "      <td>5327.802</td>\n",
       "      <td>2450.9987</td>\n",
       "    </tr>\n",
       "    <tr>\n",
       "      <th>8</th>\n",
       "      <td>CB-12025</td>\n",
       "      <td>4662.553</td>\n",
       "      <td>223.4447</td>\n",
       "    </tr>\n",
       "    <tr>\n",
       "      <th>9</th>\n",
       "      <td>QJ-19255</td>\n",
       "      <td>4409.850</td>\n",
       "      <td>1014.4635</td>\n",
       "    </tr>\n",
       "  </tbody>\n",
       "</table>\n",
       "</div>"
      ],
      "text/plain": [
       "  customer_id     sales     profit\n",
       "0    PF-19120  9022.324  -631.9789\n",
       "1    KD-16495  7039.044  2810.0215\n",
       "2    CM-12385  6682.260  3197.4580\n",
       "3    FH-14365  6056.090  2139.7363\n",
       "4    NW-18400  5511.316  1654.2153\n",
       "5    SB-20185  5414.246   939.1590\n",
       "6    JH-15985  5352.786 -1429.3776\n",
       "7    HM-14860  5327.802  2450.9987\n",
       "8    CB-12025  4662.553   223.4447\n",
       "9    QJ-19255  4409.850  1014.4635"
      ]
     },
     "execution_count": 240,
     "metadata": {},
     "output_type": "execute_result"
    }
   ],
   "source": [
    "data_7 = df1[[\"order_date\", \"customer_id\", \"sales\", \"profit\"]]\n",
    "start_date = '2014-12-31'\n",
    "end_date = '2015-12-31'\n",
    "data_7 = data_7[data_7.order_date.between(start_date, end_date)]\n",
    "data_7 = data_7.groupby(\"customer_id\").agg({\"sales\":\"sum\", \"profit\":\"sum\"})\n",
    "data_7 = data_7.sort_values('sales', ascending=False)\n",
    "data_7 = data_7.reset_index()\n",
    "data_7 = data_7.head(10)\n",
    "data_7\n"
   ]
  },
  {
   "cell_type": "code",
   "execution_count": 239,
   "metadata": {},
   "outputs": [
    {
     "data": {
      "application/vnd.plotly.v1+json": {
       "config": {
        "linkText": "Export to plot.ly",
        "plotlyServerURL": "https://plot.ly",
        "showLink": false
       },
       "data": [
        {
         "type": "bar",
         "x": [
          "PF-19120",
          "KD-16495",
          "CM-12385",
          "FH-14365",
          "NW-18400",
          "SB-20185",
          "JH-15985",
          "HM-14860",
          "CB-12025",
          "QJ-19255"
         ],
         "y": [
          -631.9789000000003,
          2810.0215,
          3197.4579999999996,
          2139.7363,
          1654.2152999999998,
          939.1590000000001,
          -1429.3776,
          2450.9986999999996,
          223.44470000000004,
          1014.4635
         ]
        }
       ],
       "layout": {
        "template": {
         "data": {
          "bar": [
           {
            "error_x": {
             "color": "#2a3f5f"
            },
            "error_y": {
             "color": "#2a3f5f"
            },
            "marker": {
             "line": {
              "color": "#E5ECF6",
              "width": 0.5
             }
            },
            "type": "bar"
           }
          ],
          "barpolar": [
           {
            "marker": {
             "line": {
              "color": "#E5ECF6",
              "width": 0.5
             }
            },
            "type": "barpolar"
           }
          ],
          "carpet": [
           {
            "aaxis": {
             "endlinecolor": "#2a3f5f",
             "gridcolor": "white",
             "linecolor": "white",
             "minorgridcolor": "white",
             "startlinecolor": "#2a3f5f"
            },
            "baxis": {
             "endlinecolor": "#2a3f5f",
             "gridcolor": "white",
             "linecolor": "white",
             "minorgridcolor": "white",
             "startlinecolor": "#2a3f5f"
            },
            "type": "carpet"
           }
          ],
          "choropleth": [
           {
            "colorbar": {
             "outlinewidth": 0,
             "ticks": ""
            },
            "type": "choropleth"
           }
          ],
          "contour": [
           {
            "colorbar": {
             "outlinewidth": 0,
             "ticks": ""
            },
            "colorscale": [
             [
              0,
              "#0d0887"
             ],
             [
              0.1111111111111111,
              "#46039f"
             ],
             [
              0.2222222222222222,
              "#7201a8"
             ],
             [
              0.3333333333333333,
              "#9c179e"
             ],
             [
              0.4444444444444444,
              "#bd3786"
             ],
             [
              0.5555555555555556,
              "#d8576b"
             ],
             [
              0.6666666666666666,
              "#ed7953"
             ],
             [
              0.7777777777777778,
              "#fb9f3a"
             ],
             [
              0.8888888888888888,
              "#fdca26"
             ],
             [
              1,
              "#f0f921"
             ]
            ],
            "type": "contour"
           }
          ],
          "contourcarpet": [
           {
            "colorbar": {
             "outlinewidth": 0,
             "ticks": ""
            },
            "type": "contourcarpet"
           }
          ],
          "heatmap": [
           {
            "colorbar": {
             "outlinewidth": 0,
             "ticks": ""
            },
            "colorscale": [
             [
              0,
              "#0d0887"
             ],
             [
              0.1111111111111111,
              "#46039f"
             ],
             [
              0.2222222222222222,
              "#7201a8"
             ],
             [
              0.3333333333333333,
              "#9c179e"
             ],
             [
              0.4444444444444444,
              "#bd3786"
             ],
             [
              0.5555555555555556,
              "#d8576b"
             ],
             [
              0.6666666666666666,
              "#ed7953"
             ],
             [
              0.7777777777777778,
              "#fb9f3a"
             ],
             [
              0.8888888888888888,
              "#fdca26"
             ],
             [
              1,
              "#f0f921"
             ]
            ],
            "type": "heatmap"
           }
          ],
          "heatmapgl": [
           {
            "colorbar": {
             "outlinewidth": 0,
             "ticks": ""
            },
            "colorscale": [
             [
              0,
              "#0d0887"
             ],
             [
              0.1111111111111111,
              "#46039f"
             ],
             [
              0.2222222222222222,
              "#7201a8"
             ],
             [
              0.3333333333333333,
              "#9c179e"
             ],
             [
              0.4444444444444444,
              "#bd3786"
             ],
             [
              0.5555555555555556,
              "#d8576b"
             ],
             [
              0.6666666666666666,
              "#ed7953"
             ],
             [
              0.7777777777777778,
              "#fb9f3a"
             ],
             [
              0.8888888888888888,
              "#fdca26"
             ],
             [
              1,
              "#f0f921"
             ]
            ],
            "type": "heatmapgl"
           }
          ],
          "histogram": [
           {
            "marker": {
             "colorbar": {
              "outlinewidth": 0,
              "ticks": ""
             }
            },
            "type": "histogram"
           }
          ],
          "histogram2d": [
           {
            "colorbar": {
             "outlinewidth": 0,
             "ticks": ""
            },
            "colorscale": [
             [
              0,
              "#0d0887"
             ],
             [
              0.1111111111111111,
              "#46039f"
             ],
             [
              0.2222222222222222,
              "#7201a8"
             ],
             [
              0.3333333333333333,
              "#9c179e"
             ],
             [
              0.4444444444444444,
              "#bd3786"
             ],
             [
              0.5555555555555556,
              "#d8576b"
             ],
             [
              0.6666666666666666,
              "#ed7953"
             ],
             [
              0.7777777777777778,
              "#fb9f3a"
             ],
             [
              0.8888888888888888,
              "#fdca26"
             ],
             [
              1,
              "#f0f921"
             ]
            ],
            "type": "histogram2d"
           }
          ],
          "histogram2dcontour": [
           {
            "colorbar": {
             "outlinewidth": 0,
             "ticks": ""
            },
            "colorscale": [
             [
              0,
              "#0d0887"
             ],
             [
              0.1111111111111111,
              "#46039f"
             ],
             [
              0.2222222222222222,
              "#7201a8"
             ],
             [
              0.3333333333333333,
              "#9c179e"
             ],
             [
              0.4444444444444444,
              "#bd3786"
             ],
             [
              0.5555555555555556,
              "#d8576b"
             ],
             [
              0.6666666666666666,
              "#ed7953"
             ],
             [
              0.7777777777777778,
              "#fb9f3a"
             ],
             [
              0.8888888888888888,
              "#fdca26"
             ],
             [
              1,
              "#f0f921"
             ]
            ],
            "type": "histogram2dcontour"
           }
          ],
          "mesh3d": [
           {
            "colorbar": {
             "outlinewidth": 0,
             "ticks": ""
            },
            "type": "mesh3d"
           }
          ],
          "parcoords": [
           {
            "line": {
             "colorbar": {
              "outlinewidth": 0,
              "ticks": ""
             }
            },
            "type": "parcoords"
           }
          ],
          "pie": [
           {
            "automargin": true,
            "type": "pie"
           }
          ],
          "scatter": [
           {
            "marker": {
             "colorbar": {
              "outlinewidth": 0,
              "ticks": ""
             }
            },
            "type": "scatter"
           }
          ],
          "scatter3d": [
           {
            "line": {
             "colorbar": {
              "outlinewidth": 0,
              "ticks": ""
             }
            },
            "marker": {
             "colorbar": {
              "outlinewidth": 0,
              "ticks": ""
             }
            },
            "type": "scatter3d"
           }
          ],
          "scattercarpet": [
           {
            "marker": {
             "colorbar": {
              "outlinewidth": 0,
              "ticks": ""
             }
            },
            "type": "scattercarpet"
           }
          ],
          "scattergeo": [
           {
            "marker": {
             "colorbar": {
              "outlinewidth": 0,
              "ticks": ""
             }
            },
            "type": "scattergeo"
           }
          ],
          "scattergl": [
           {
            "marker": {
             "colorbar": {
              "outlinewidth": 0,
              "ticks": ""
             }
            },
            "type": "scattergl"
           }
          ],
          "scattermapbox": [
           {
            "marker": {
             "colorbar": {
              "outlinewidth": 0,
              "ticks": ""
             }
            },
            "type": "scattermapbox"
           }
          ],
          "scatterpolar": [
           {
            "marker": {
             "colorbar": {
              "outlinewidth": 0,
              "ticks": ""
             }
            },
            "type": "scatterpolar"
           }
          ],
          "scatterpolargl": [
           {
            "marker": {
             "colorbar": {
              "outlinewidth": 0,
              "ticks": ""
             }
            },
            "type": "scatterpolargl"
           }
          ],
          "scatterternary": [
           {
            "marker": {
             "colorbar": {
              "outlinewidth": 0,
              "ticks": ""
             }
            },
            "type": "scatterternary"
           }
          ],
          "surface": [
           {
            "colorbar": {
             "outlinewidth": 0,
             "ticks": ""
            },
            "colorscale": [
             [
              0,
              "#0d0887"
             ],
             [
              0.1111111111111111,
              "#46039f"
             ],
             [
              0.2222222222222222,
              "#7201a8"
             ],
             [
              0.3333333333333333,
              "#9c179e"
             ],
             [
              0.4444444444444444,
              "#bd3786"
             ],
             [
              0.5555555555555556,
              "#d8576b"
             ],
             [
              0.6666666666666666,
              "#ed7953"
             ],
             [
              0.7777777777777778,
              "#fb9f3a"
             ],
             [
              0.8888888888888888,
              "#fdca26"
             ],
             [
              1,
              "#f0f921"
             ]
            ],
            "type": "surface"
           }
          ],
          "table": [
           {
            "cells": {
             "fill": {
              "color": "#EBF0F8"
             },
             "line": {
              "color": "white"
             }
            },
            "header": {
             "fill": {
              "color": "#C8D4E3"
             },
             "line": {
              "color": "white"
             }
            },
            "type": "table"
           }
          ]
         },
         "layout": {
          "annotationdefaults": {
           "arrowcolor": "#2a3f5f",
           "arrowhead": 0,
           "arrowwidth": 1
          },
          "coloraxis": {
           "colorbar": {
            "outlinewidth": 0,
            "ticks": ""
           }
          },
          "colorscale": {
           "diverging": [
            [
             0,
             "#8e0152"
            ],
            [
             0.1,
             "#c51b7d"
            ],
            [
             0.2,
             "#de77ae"
            ],
            [
             0.3,
             "#f1b6da"
            ],
            [
             0.4,
             "#fde0ef"
            ],
            [
             0.5,
             "#f7f7f7"
            ],
            [
             0.6,
             "#e6f5d0"
            ],
            [
             0.7,
             "#b8e186"
            ],
            [
             0.8,
             "#7fbc41"
            ],
            [
             0.9,
             "#4d9221"
            ],
            [
             1,
             "#276419"
            ]
           ],
           "sequential": [
            [
             0,
             "#0d0887"
            ],
            [
             0.1111111111111111,
             "#46039f"
            ],
            [
             0.2222222222222222,
             "#7201a8"
            ],
            [
             0.3333333333333333,
             "#9c179e"
            ],
            [
             0.4444444444444444,
             "#bd3786"
            ],
            [
             0.5555555555555556,
             "#d8576b"
            ],
            [
             0.6666666666666666,
             "#ed7953"
            ],
            [
             0.7777777777777778,
             "#fb9f3a"
            ],
            [
             0.8888888888888888,
             "#fdca26"
            ],
            [
             1,
             "#f0f921"
            ]
           ],
           "sequentialminus": [
            [
             0,
             "#0d0887"
            ],
            [
             0.1111111111111111,
             "#46039f"
            ],
            [
             0.2222222222222222,
             "#7201a8"
            ],
            [
             0.3333333333333333,
             "#9c179e"
            ],
            [
             0.4444444444444444,
             "#bd3786"
            ],
            [
             0.5555555555555556,
             "#d8576b"
            ],
            [
             0.6666666666666666,
             "#ed7953"
            ],
            [
             0.7777777777777778,
             "#fb9f3a"
            ],
            [
             0.8888888888888888,
             "#fdca26"
            ],
            [
             1,
             "#f0f921"
            ]
           ]
          },
          "colorway": [
           "#636efa",
           "#EF553B",
           "#00cc96",
           "#ab63fa",
           "#FFA15A",
           "#19d3f3",
           "#FF6692",
           "#B6E880",
           "#FF97FF",
           "#FECB52"
          ],
          "font": {
           "color": "#2a3f5f"
          },
          "geo": {
           "bgcolor": "white",
           "lakecolor": "white",
           "landcolor": "#E5ECF6",
           "showlakes": true,
           "showland": true,
           "subunitcolor": "white"
          },
          "hoverlabel": {
           "align": "left"
          },
          "hovermode": "closest",
          "mapbox": {
           "style": "light"
          },
          "paper_bgcolor": "white",
          "plot_bgcolor": "#E5ECF6",
          "polar": {
           "angularaxis": {
            "gridcolor": "white",
            "linecolor": "white",
            "ticks": ""
           },
           "bgcolor": "#E5ECF6",
           "radialaxis": {
            "gridcolor": "white",
            "linecolor": "white",
            "ticks": ""
           }
          },
          "scene": {
           "xaxis": {
            "backgroundcolor": "#E5ECF6",
            "gridcolor": "white",
            "gridwidth": 2,
            "linecolor": "white",
            "showbackground": true,
            "ticks": "",
            "zerolinecolor": "white"
           },
           "yaxis": {
            "backgroundcolor": "#E5ECF6",
            "gridcolor": "white",
            "gridwidth": 2,
            "linecolor": "white",
            "showbackground": true,
            "ticks": "",
            "zerolinecolor": "white"
           },
           "zaxis": {
            "backgroundcolor": "#E5ECF6",
            "gridcolor": "white",
            "gridwidth": 2,
            "linecolor": "white",
            "showbackground": true,
            "ticks": "",
            "zerolinecolor": "white"
           }
          },
          "shapedefaults": {
           "line": {
            "color": "#2a3f5f"
           }
          },
          "ternary": {
           "aaxis": {
            "gridcolor": "white",
            "linecolor": "white",
            "ticks": ""
           },
           "baxis": {
            "gridcolor": "white",
            "linecolor": "white",
            "ticks": ""
           },
           "bgcolor": "#E5ECF6",
           "caxis": {
            "gridcolor": "white",
            "linecolor": "white",
            "ticks": ""
           }
          },
          "title": {
           "x": 0.05
          },
          "xaxis": {
           "automargin": true,
           "gridcolor": "white",
           "linecolor": "white",
           "ticks": "",
           "title": {
            "standoff": 15
           },
           "zerolinecolor": "white",
           "zerolinewidth": 2
          },
          "yaxis": {
           "automargin": true,
           "gridcolor": "white",
           "linecolor": "white",
           "ticks": "",
           "title": {
            "standoff": 15
           },
           "zerolinecolor": "white",
           "zerolinewidth": 2
          }
         }
        }
       }
      },
      "text/html": [
       "<div>\n",
       "        \n",
       "        \n",
       "            <div id=\"4332644c-49e8-46dc-a77f-fa5e43f74e32\" class=\"plotly-graph-div\" style=\"height:525px; width:100%;\"></div>\n",
       "            <script type=\"text/javascript\">\n",
       "                require([\"plotly\"], function(Plotly) {\n",
       "                    window.PLOTLYENV=window.PLOTLYENV || {};\n",
       "                    \n",
       "                if (document.getElementById(\"4332644c-49e8-46dc-a77f-fa5e43f74e32\")) {\n",
       "                    Plotly.newPlot(\n",
       "                        '4332644c-49e8-46dc-a77f-fa5e43f74e32',\n",
       "                        [{\"type\": \"bar\", \"x\": [\"PF-19120\", \"KD-16495\", \"CM-12385\", \"FH-14365\", \"NW-18400\", \"SB-20185\", \"JH-15985\", \"HM-14860\", \"CB-12025\", \"QJ-19255\"], \"y\": [-631.9789000000003, 2810.0215, 3197.4579999999996, 2139.7363, 1654.2152999999998, 939.1590000000001, -1429.3776, 2450.9986999999996, 223.44470000000004, 1014.4635]}],\n",
       "                        {\"template\": {\"data\": {\"bar\": [{\"error_x\": {\"color\": \"#2a3f5f\"}, \"error_y\": {\"color\": \"#2a3f5f\"}, \"marker\": {\"line\": {\"color\": \"#E5ECF6\", \"width\": 0.5}}, \"type\": \"bar\"}], \"barpolar\": [{\"marker\": {\"line\": {\"color\": \"#E5ECF6\", \"width\": 0.5}}, \"type\": \"barpolar\"}], \"carpet\": [{\"aaxis\": {\"endlinecolor\": \"#2a3f5f\", \"gridcolor\": \"white\", \"linecolor\": \"white\", \"minorgridcolor\": \"white\", \"startlinecolor\": \"#2a3f5f\"}, \"baxis\": {\"endlinecolor\": \"#2a3f5f\", \"gridcolor\": \"white\", \"linecolor\": \"white\", \"minorgridcolor\": \"white\", \"startlinecolor\": \"#2a3f5f\"}, \"type\": \"carpet\"}], \"choropleth\": [{\"colorbar\": {\"outlinewidth\": 0, \"ticks\": \"\"}, \"type\": \"choropleth\"}], \"contour\": [{\"colorbar\": {\"outlinewidth\": 0, \"ticks\": \"\"}, \"colorscale\": [[0.0, \"#0d0887\"], [0.1111111111111111, \"#46039f\"], [0.2222222222222222, \"#7201a8\"], [0.3333333333333333, \"#9c179e\"], [0.4444444444444444, \"#bd3786\"], [0.5555555555555556, \"#d8576b\"], [0.6666666666666666, \"#ed7953\"], [0.7777777777777778, \"#fb9f3a\"], [0.8888888888888888, \"#fdca26\"], [1.0, \"#f0f921\"]], \"type\": \"contour\"}], \"contourcarpet\": [{\"colorbar\": {\"outlinewidth\": 0, \"ticks\": \"\"}, \"type\": \"contourcarpet\"}], \"heatmap\": [{\"colorbar\": {\"outlinewidth\": 0, \"ticks\": \"\"}, \"colorscale\": [[0.0, \"#0d0887\"], [0.1111111111111111, \"#46039f\"], [0.2222222222222222, \"#7201a8\"], [0.3333333333333333, \"#9c179e\"], [0.4444444444444444, \"#bd3786\"], [0.5555555555555556, \"#d8576b\"], [0.6666666666666666, \"#ed7953\"], [0.7777777777777778, \"#fb9f3a\"], [0.8888888888888888, \"#fdca26\"], [1.0, \"#f0f921\"]], \"type\": \"heatmap\"}], \"heatmapgl\": [{\"colorbar\": {\"outlinewidth\": 0, \"ticks\": \"\"}, \"colorscale\": [[0.0, \"#0d0887\"], [0.1111111111111111, \"#46039f\"], [0.2222222222222222, \"#7201a8\"], [0.3333333333333333, \"#9c179e\"], [0.4444444444444444, \"#bd3786\"], [0.5555555555555556, \"#d8576b\"], [0.6666666666666666, \"#ed7953\"], [0.7777777777777778, \"#fb9f3a\"], [0.8888888888888888, \"#fdca26\"], [1.0, \"#f0f921\"]], \"type\": \"heatmapgl\"}], \"histogram\": [{\"marker\": {\"colorbar\": {\"outlinewidth\": 0, \"ticks\": \"\"}}, \"type\": \"histogram\"}], \"histogram2d\": [{\"colorbar\": {\"outlinewidth\": 0, \"ticks\": \"\"}, \"colorscale\": [[0.0, \"#0d0887\"], [0.1111111111111111, \"#46039f\"], [0.2222222222222222, \"#7201a8\"], [0.3333333333333333, \"#9c179e\"], [0.4444444444444444, \"#bd3786\"], [0.5555555555555556, \"#d8576b\"], [0.6666666666666666, \"#ed7953\"], [0.7777777777777778, \"#fb9f3a\"], [0.8888888888888888, \"#fdca26\"], [1.0, \"#f0f921\"]], \"type\": \"histogram2d\"}], \"histogram2dcontour\": [{\"colorbar\": {\"outlinewidth\": 0, \"ticks\": \"\"}, \"colorscale\": [[0.0, \"#0d0887\"], [0.1111111111111111, \"#46039f\"], [0.2222222222222222, \"#7201a8\"], [0.3333333333333333, \"#9c179e\"], [0.4444444444444444, \"#bd3786\"], [0.5555555555555556, \"#d8576b\"], [0.6666666666666666, \"#ed7953\"], [0.7777777777777778, \"#fb9f3a\"], [0.8888888888888888, \"#fdca26\"], [1.0, \"#f0f921\"]], \"type\": \"histogram2dcontour\"}], \"mesh3d\": [{\"colorbar\": {\"outlinewidth\": 0, \"ticks\": \"\"}, \"type\": \"mesh3d\"}], \"parcoords\": [{\"line\": {\"colorbar\": {\"outlinewidth\": 0, \"ticks\": \"\"}}, \"type\": \"parcoords\"}], \"pie\": [{\"automargin\": true, \"type\": \"pie\"}], \"scatter\": [{\"marker\": {\"colorbar\": {\"outlinewidth\": 0, \"ticks\": \"\"}}, \"type\": \"scatter\"}], \"scatter3d\": [{\"line\": {\"colorbar\": {\"outlinewidth\": 0, \"ticks\": \"\"}}, \"marker\": {\"colorbar\": {\"outlinewidth\": 0, \"ticks\": \"\"}}, \"type\": \"scatter3d\"}], \"scattercarpet\": [{\"marker\": {\"colorbar\": {\"outlinewidth\": 0, \"ticks\": \"\"}}, \"type\": \"scattercarpet\"}], \"scattergeo\": [{\"marker\": {\"colorbar\": {\"outlinewidth\": 0, \"ticks\": \"\"}}, \"type\": \"scattergeo\"}], \"scattergl\": [{\"marker\": {\"colorbar\": {\"outlinewidth\": 0, \"ticks\": \"\"}}, \"type\": \"scattergl\"}], \"scattermapbox\": [{\"marker\": {\"colorbar\": {\"outlinewidth\": 0, \"ticks\": \"\"}}, \"type\": \"scattermapbox\"}], \"scatterpolar\": [{\"marker\": {\"colorbar\": {\"outlinewidth\": 0, \"ticks\": \"\"}}, \"type\": \"scatterpolar\"}], \"scatterpolargl\": [{\"marker\": {\"colorbar\": {\"outlinewidth\": 0, \"ticks\": \"\"}}, \"type\": \"scatterpolargl\"}], \"scatterternary\": [{\"marker\": {\"colorbar\": {\"outlinewidth\": 0, \"ticks\": \"\"}}, \"type\": \"scatterternary\"}], \"surface\": [{\"colorbar\": {\"outlinewidth\": 0, \"ticks\": \"\"}, \"colorscale\": [[0.0, \"#0d0887\"], [0.1111111111111111, \"#46039f\"], [0.2222222222222222, \"#7201a8\"], [0.3333333333333333, \"#9c179e\"], [0.4444444444444444, \"#bd3786\"], [0.5555555555555556, \"#d8576b\"], [0.6666666666666666, \"#ed7953\"], [0.7777777777777778, \"#fb9f3a\"], [0.8888888888888888, \"#fdca26\"], [1.0, \"#f0f921\"]], \"type\": \"surface\"}], \"table\": [{\"cells\": {\"fill\": {\"color\": \"#EBF0F8\"}, \"line\": {\"color\": \"white\"}}, \"header\": {\"fill\": {\"color\": \"#C8D4E3\"}, \"line\": {\"color\": \"white\"}}, \"type\": \"table\"}]}, \"layout\": {\"annotationdefaults\": {\"arrowcolor\": \"#2a3f5f\", \"arrowhead\": 0, \"arrowwidth\": 1}, \"coloraxis\": {\"colorbar\": {\"outlinewidth\": 0, \"ticks\": \"\"}}, \"colorscale\": {\"diverging\": [[0, \"#8e0152\"], [0.1, \"#c51b7d\"], [0.2, \"#de77ae\"], [0.3, \"#f1b6da\"], [0.4, \"#fde0ef\"], [0.5, \"#f7f7f7\"], [0.6, \"#e6f5d0\"], [0.7, \"#b8e186\"], [0.8, \"#7fbc41\"], [0.9, \"#4d9221\"], [1, \"#276419\"]], \"sequential\": [[0.0, \"#0d0887\"], [0.1111111111111111, \"#46039f\"], [0.2222222222222222, \"#7201a8\"], [0.3333333333333333, \"#9c179e\"], [0.4444444444444444, \"#bd3786\"], [0.5555555555555556, \"#d8576b\"], [0.6666666666666666, \"#ed7953\"], [0.7777777777777778, \"#fb9f3a\"], [0.8888888888888888, \"#fdca26\"], [1.0, \"#f0f921\"]], \"sequentialminus\": [[0.0, \"#0d0887\"], [0.1111111111111111, \"#46039f\"], [0.2222222222222222, \"#7201a8\"], [0.3333333333333333, \"#9c179e\"], [0.4444444444444444, \"#bd3786\"], [0.5555555555555556, \"#d8576b\"], [0.6666666666666666, \"#ed7953\"], [0.7777777777777778, \"#fb9f3a\"], [0.8888888888888888, \"#fdca26\"], [1.0, \"#f0f921\"]]}, \"colorway\": [\"#636efa\", \"#EF553B\", \"#00cc96\", \"#ab63fa\", \"#FFA15A\", \"#19d3f3\", \"#FF6692\", \"#B6E880\", \"#FF97FF\", \"#FECB52\"], \"font\": {\"color\": \"#2a3f5f\"}, \"geo\": {\"bgcolor\": \"white\", \"lakecolor\": \"white\", \"landcolor\": \"#E5ECF6\", \"showlakes\": true, \"showland\": true, \"subunitcolor\": \"white\"}, \"hoverlabel\": {\"align\": \"left\"}, \"hovermode\": \"closest\", \"mapbox\": {\"style\": \"light\"}, \"paper_bgcolor\": \"white\", \"plot_bgcolor\": \"#E5ECF6\", \"polar\": {\"angularaxis\": {\"gridcolor\": \"white\", \"linecolor\": \"white\", \"ticks\": \"\"}, \"bgcolor\": \"#E5ECF6\", \"radialaxis\": {\"gridcolor\": \"white\", \"linecolor\": \"white\", \"ticks\": \"\"}}, \"scene\": {\"xaxis\": {\"backgroundcolor\": \"#E5ECF6\", \"gridcolor\": \"white\", \"gridwidth\": 2, \"linecolor\": \"white\", \"showbackground\": true, \"ticks\": \"\", \"zerolinecolor\": \"white\"}, \"yaxis\": {\"backgroundcolor\": \"#E5ECF6\", \"gridcolor\": \"white\", \"gridwidth\": 2, \"linecolor\": \"white\", \"showbackground\": true, \"ticks\": \"\", \"zerolinecolor\": \"white\"}, \"zaxis\": {\"backgroundcolor\": \"#E5ECF6\", \"gridcolor\": \"white\", \"gridwidth\": 2, \"linecolor\": \"white\", \"showbackground\": true, \"ticks\": \"\", \"zerolinecolor\": \"white\"}}, \"shapedefaults\": {\"line\": {\"color\": \"#2a3f5f\"}}, \"ternary\": {\"aaxis\": {\"gridcolor\": \"white\", \"linecolor\": \"white\", \"ticks\": \"\"}, \"baxis\": {\"gridcolor\": \"white\", \"linecolor\": \"white\", \"ticks\": \"\"}, \"bgcolor\": \"#E5ECF6\", \"caxis\": {\"gridcolor\": \"white\", \"linecolor\": \"white\", \"ticks\": \"\"}}, \"title\": {\"x\": 0.05}, \"xaxis\": {\"automargin\": true, \"gridcolor\": \"white\", \"linecolor\": \"white\", \"ticks\": \"\", \"title\": {\"standoff\": 15}, \"zerolinecolor\": \"white\", \"zerolinewidth\": 2}, \"yaxis\": {\"automargin\": true, \"gridcolor\": \"white\", \"linecolor\": \"white\", \"ticks\": \"\", \"title\": {\"standoff\": 15}, \"zerolinecolor\": \"white\", \"zerolinewidth\": 2}}}},\n",
       "                        {\"responsive\": true}\n",
       "                    ).then(function(){\n",
       "                            \n",
       "var gd = document.getElementById('4332644c-49e8-46dc-a77f-fa5e43f74e32');\n",
       "var x = new MutationObserver(function (mutations, observer) {{\n",
       "        var display = window.getComputedStyle(gd).display;\n",
       "        if (!display || display === 'none') {{\n",
       "            console.log([gd, 'removed!']);\n",
       "            Plotly.purge(gd);\n",
       "            observer.disconnect();\n",
       "        }}\n",
       "}});\n",
       "\n",
       "// Listen for the removal of the full notebook cells\n",
       "var notebookContainer = gd.closest('#notebook-container');\n",
       "if (notebookContainer) {{\n",
       "    x.observe(notebookContainer, {childList: true});\n",
       "}}\n",
       "\n",
       "// Listen for the clearing of the current output cell\n",
       "var outputEl = gd.closest('.output');\n",
       "if (outputEl) {{\n",
       "    x.observe(outputEl, {childList: true});\n",
       "}}\n",
       "\n",
       "                        })\n",
       "                };\n",
       "                });\n",
       "            </script>\n",
       "        </div>"
      ]
     },
     "metadata": {},
     "output_type": "display_data"
    }
   ],
   "source": [
    "data = go.Bar(\n",
    "    x = data_7.customer_id,\n",
    "    y = data_7.profit,\n",
    ")\n",
    "\n",
    "fig = go.Figure(data=data)\n",
    "iplot(fig)"
   ]
  },
  {
   "cell_type": "code",
   "execution_count": 1,
   "metadata": {},
   "outputs": [
    {
     "ename": "TypeError",
     "evalue": "unsupported operand type(s) for +: 'int' and 'str'",
     "output_type": "error",
     "traceback": [
      "\u001b[1;31m---------------------------------------------------------------------------\u001b[0m",
      "\u001b[1;31mTypeError\u001b[0m                                 Traceback (most recent call last)",
      "\u001b[1;32m<ipython-input-1-5f9d44cb0bd4>\u001b[0m in \u001b[0;36m<module>\u001b[1;34m\u001b[0m\n\u001b[1;32m----> 1\u001b[1;33m \u001b[1;36m5\u001b[0m \u001b[1;33m+\u001b[0m \u001b[1;34m\"10\"\u001b[0m\u001b[1;33m\u001b[0m\u001b[1;33m\u001b[0m\u001b[0m\n\u001b[0m",
      "\u001b[1;31mTypeError\u001b[0m: unsupported operand type(s) for +: 'int' and 'str'"
     ]
    }
   ],
   "source": [
    "5 + \"10\""
   ]
  },
  {
   "cell_type": "code",
   "execution_count": null,
   "metadata": {},
   "outputs": [],
   "source": []
  }
 ],
 "metadata": {
  "kernelspec": {
   "display_name": "Python 3",
   "language": "python",
   "name": "python3"
  },
  "language_info": {
   "codemirror_mode": {
    "name": "ipython",
    "version": 3
   },
   "file_extension": ".py",
   "mimetype": "text/x-python",
   "name": "python",
   "nbconvert_exporter": "python",
   "pygments_lexer": "ipython3",
   "version": "3.7.6"
  }
 },
 "nbformat": 4,
 "nbformat_minor": 4
}
